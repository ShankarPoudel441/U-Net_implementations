{
  "nbformat": 4,
  "nbformat_minor": 0,
  "metadata": {
    "colab": {
      "name": "CBIS-DICOM Images.ipynb",
      "provenance": [],
      "collapsed_sections": [],
      "authorship_tag": "ABX9TyPLVi1D9kE1eMEzY0C2j016",
      "include_colab_link": true
    },
    "kernelspec": {
      "name": "python3",
      "display_name": "Python 3"
    },
    "language_info": {
      "name": "python"
    }
  },
  "cells": [
    {
      "cell_type": "markdown",
      "metadata": {
        "id": "view-in-github",
        "colab_type": "text"
      },
      "source": [
        "<a href=\"https://colab.research.google.com/github/ShankarPoudel441/U-Net_implementations/blob/main/CBIS_DICOM_Images.ipynb\" target=\"_parent\"><img src=\"https://colab.research.google.com/assets/colab-badge.svg\" alt=\"Open In Colab\"/></a>"
      ]
    },
    {
      "cell_type": "code",
      "execution_count": 2,
      "metadata": {
        "id": "gxe4QcakOG_V",
        "colab": {
          "base_uri": "https://localhost:8080/"
        },
        "outputId": "d1cb0f45-0c37-459d-a448-9a3fb5a4bab2"
      },
      "outputs": [
        {
          "output_type": "stream",
          "name": "stdout",
          "text": [
            "Mounted at /content/drive\n"
          ]
        }
      ],
      "source": [
        "from google.colab import drive\n",
        "drive.mount('/content/drive')\n"
      ]
    },
    {
      "cell_type": "code",
      "source": [
        "!pip install pydicom"
      ],
      "metadata": {
        "id": "OtSKqd6_fXTl",
        "colab": {
          "base_uri": "https://localhost:8080/"
        },
        "outputId": "c0711a7d-e122-4615-efbd-bb4c380f6bf9"
      },
      "execution_count": 3,
      "outputs": [
        {
          "output_type": "stream",
          "name": "stdout",
          "text": [
            "Collecting pydicom\n",
            "  Downloading pydicom-2.2.2-py3-none-any.whl (2.0 MB)\n",
            "\u001b[K     |████████████████████████████████| 2.0 MB 4.2 MB/s \n",
            "\u001b[?25hInstalling collected packages: pydicom\n",
            "Successfully installed pydicom-2.2.2\n"
          ]
        }
      ]
    },
    {
      "cell_type": "code",
      "source": [
        "import pydicom\n",
        "import pydicom as dicom\n",
        "import matplotlib.pylab as plt"
      ],
      "metadata": {
        "id": "8-OMQ8N7feBV"
      },
      "execution_count": 4,
      "outputs": []
    },
    {
      "cell_type": "code",
      "source": [
        "# # specify your image path\n",
        "# image_path = \"/content/drive/MyDrive/CBIS-DDSM/CBIS-DDSM/Mass-Training_P_00990_RIGHT_MLO/07-20-2016-DDSM-NA-57943/1.000000-full mammogram images-69759/1-1.dcm\"\n",
        "# ds = dicom.dcmread(image_path)\n",
        "\n",
        "# plt.imshow(ds.pixel_array)"
      ],
      "metadata": {
        "id": "q_QW1HaPOkr3"
      },
      "execution_count": null,
      "outputs": []
    },
    {
      "cell_type": "code",
      "source": [
        "# print (ds)"
      ],
      "metadata": {
        "id": "vtThf2GqfosF"
      },
      "execution_count": null,
      "outputs": []
    },
    {
      "cell_type": "code",
      "source": [
        "# print(ds[\"SeriesInstanceUID\"].value,\"\\n\", ds[\"SeriesInstanceUID\"].tag)"
      ],
      "metadata": {
        "id": "k6e7qyDAiXny"
      },
      "execution_count": null,
      "outputs": []
    },
    {
      "cell_type": "code",
      "source": [
        ""
      ],
      "metadata": {
        "id": "lSvCQuhrj7FO"
      },
      "execution_count": null,
      "outputs": []
    },
    {
      "cell_type": "code",
      "source": [
        ""
      ],
      "metadata": {
        "id": "61NOQVopmo7L"
      },
      "execution_count": null,
      "outputs": []
    },
    {
      "cell_type": "code",
      "source": [
        ""
      ],
      "metadata": {
        "id": "t6Xnw7RG75YR"
      },
      "execution_count": null,
      "outputs": []
    },
    {
      "cell_type": "code",
      "source": [
        ""
      ],
      "metadata": {
        "id": "QdSrEN2175c9"
      },
      "execution_count": null,
      "outputs": []
    },
    {
      "cell_type": "code",
      "source": [
        ""
      ],
      "metadata": {
        "id": "xOLN1-kzIIGD"
      },
      "execution_count": null,
      "outputs": []
    },
    {
      "cell_type": "code",
      "source": [
        "import os\n",
        "\n",
        "path =\"/content/drive/MyDrive/CBIS-DDSM/CBIS-DDSM\"\n",
        "#we shall store all the file names in this list\n",
        "filelist = []\n",
        "i=0\n",
        "\n",
        "for root, dirs, files in os.walk(path):\n",
        "  for file in files:\n",
        "    i+=1\n",
        "    print(i)\n",
        "    filelist.append(os.path.join(root,file))   #append the file name to the list\n",
        "  \n",
        "  \n",
        "print(len(filelist))"
      ],
      "metadata": {
        "id": "GOPJM4CQIIj6",
        "colab": {
          "base_uri": "https://localhost:8080/"
        },
        "outputId": "ed9ddd00-8473-47db-d352-bbf326553792"
      },
      "execution_count": 5,
      "outputs": [
        {
          "output_type": "stream",
          "name": "stdout",
          "text": [
            "1\n",
            "1\n"
          ]
        }
      ]
    },
    {
      "cell_type": "code",
      "source": [
        ""
      ],
      "metadata": {
        "id": "PG9xJJz7II7E"
      },
      "execution_count": null,
      "outputs": []
    },
    {
      "cell_type": "code",
      "source": [
        "import os\n",
        "\n",
        "arr = os.listdir(\"/content/drive/MyDrive/CBIS-DDSM/Mass/Train\")\n",
        "len(arr)"
      ],
      "metadata": {
        "colab": {
          "base_uri": "https://localhost:8080/"
        },
        "id": "GpzmIWCb75gd",
        "outputId": "df203edd-1c38-449a-d000-b1d10f4e7544"
      },
      "execution_count": 6,
      "outputs": [
        {
          "output_type": "execute_result",
          "data": {
            "text/plain": [
              "3867"
            ]
          },
          "metadata": {},
          "execution_count": 6
        }
      ]
    },
    {
      "cell_type": "code",
      "source": [
        "all_mass_data=[k for k in arr if 'Mass' in k]\n",
        "mass_train=[k for k in all_mass_data if \"Train\" in k]\n",
        "mass_test=[k for k in all_mass_data if \"Test\" in k]\n",
        "len(all_mass_data)-len(mass_train)-len(mass_test)\n",
        "print(\"Toal mass images = \", len(all_mass_data), \"\\n total in training = \", len(mass_train), '\\n total in testing =', len(mass_test))"
      ],
      "metadata": {
        "colab": {
          "base_uri": "https://localhost:8080/"
        },
        "id": "dMr7dkMj98kr",
        "outputId": "06ba1317-e738-45e3-ed36-484fcf6b242d"
      },
      "execution_count": null,
      "outputs": [
        {
          "output_type": "stream",
          "name": "stdout",
          "text": [
            "Toal mass images =  3867 \n",
            " total in training =  3867 \n",
            " total in testing = 0\n"
          ]
        }
      ]
    },
    {
      "cell_type": "code",
      "source": [
        "mass_test"
      ],
      "metadata": {
        "colab": {
          "base_uri": "https://localhost:8080/"
        },
        "id": "-5TUj0_LGYyD",
        "outputId": "16027203-49cf-42b6-c618-4e0ff2ac1fa6"
      },
      "execution_count": null,
      "outputs": [
        {
          "output_type": "execute_result",
          "data": {
            "text/plain": [
              "[]"
            ]
          },
          "metadata": {},
          "execution_count": 10
        }
      ]
    },
    {
      "cell_type": "code",
      "source": [
        ""
      ],
      "metadata": {
        "id": "17HTYbOkGR-0"
      },
      "execution_count": null,
      "outputs": []
    },
    {
      "cell_type": "code",
      "source": [
        ""
      ],
      "metadata": {
        "id": "WIHIS_g1IKcS"
      },
      "execution_count": null,
      "outputs": []
    },
    {
      "cell_type": "code",
      "source": [
        ""
      ],
      "metadata": {
        "id": "QrxV3yghIKjP"
      },
      "execution_count": null,
      "outputs": []
    },
    {
      "cell_type": "code",
      "source": [
        ""
      ],
      "metadata": {
        "id": "ejvlQ96W99E-"
      },
      "execution_count": null,
      "outputs": []
    },
    {
      "cell_type": "code",
      "source": [
        ""
      ],
      "metadata": {
        "id": "d6M7Bd5l_E2K"
      },
      "execution_count": null,
      "outputs": []
    },
    {
      "cell_type": "markdown",
      "source": [
        "#Naming Conventions inside CBIS_DDSM :\n",
        "For outer layer of name:\n",
        "  \n",
        "  A) Mass/Calc : mass data or calcification data\n",
        "\n",
        "  b) Training/Test : training data or testing\n",
        "\n",
        "  c) P_XXXXX : the patient_id\n",
        "\n",
        "  d) LEFT_CC/RIGHT_CC/LEFT_MLO/Training_P_00990_RIGHT_MLO\n",
        "\n",
        "  e) if there is some integer value at the end, it means there are multiple images for the patient"
      ],
      "metadata": {
        "id": "6YHFFR-X_fze"
      }
    },
    {
      "cell_type": "code",
      "source": [
        "# import numpy as np\n",
        "\n",
        "# DATA_FOLDER=\"/content/drive/MyDrive/CBIS-DDSM/CBIS-DDSM\""
      ],
      "metadata": {
        "id": "IjxkmFKJuOn0"
      },
      "execution_count": 7,
      "outputs": []
    },
    {
      "cell_type": "code",
      "source": [
        "# example_paths=[\"Mass-Training_P_01009_RIGHT_CC_1/07-21-2016-DDSM-NA-24540/1.000000-ROI mask images-71266/1-1.dcm\",\n",
        "#                \"Mass-Training_P_01009_RIGHT_CC_1/07-21-2016-DDSM-NA-24540/1.000000-ROI mask images-71266/1-2.dcm\",\n",
        "#                \"Mass-Training_P_01009_RIGHT_MLO/07-20-2016-DDSM-NA-86546/1.000000-full mammogram images-12507/1-1.dcm\",\n",
        "#                \"Mass-Training_P_01009_RIGHT_CC/07-20-2016-DDSM-NA-23801/1.000000-full mammogram images-60356/1-1.dcm\",\n",
        "#                \"Mass-Training_P_01009_RIGHT_MLO_1/07-21-2016-DDSM-NA-50169/1.000000-ROI mask images-72271/1-1.dcm\",\n",
        "#                \"Mass-Training_P_01009_RIGHT_MLO_1/07-21-2016-DDSM-NA-50169/1.000000-ROI mask images-72271/1-2.dcm\"]\n",
        "\n",
        "# ds=[]\n",
        "\n",
        "# for path in example_paths:\n",
        "#   ds.append(dicom.dcmread(DATA_FOLDER+\"/\"+path))\n",
        "\n",
        "\n",
        "\n",
        "# # plt.imshow(ds[0].pixel_array, cmap=\"gray\")\n",
        "# # plt.title(f\"{ds[0].PatientID},{ds[0].SeriesDescription}\")\n",
        "\n",
        "\n",
        "# pixel_arr=np.array([x.pixel_array for x in ds])\n",
        "\n",
        "\n",
        "# # fig, ax = plt.subplots(nrows=1, ncols=len(example_paths), figsize = (44, 5))\n",
        "# # # Plot image\n",
        "# # for i in range(len(example_paths)):\n",
        "# #   plt.imshow(ds[i].pixel_array, cmap=\"gray\")\n",
        "# #   plt.title(f\"{ds[i].PatientID},{ds[i].SeriesDescription}\")\n",
        "\n",
        "\n",
        "\n",
        "\n"
      ],
      "metadata": {
        "id": "tWMrAzFlBCYI"
      },
      "execution_count": 8,
      "outputs": []
    },
    {
      "cell_type": "code",
      "source": [
        "# fig, ax = plt.subplots(nrows=1, ncols=len(example_paths), figsize = (44, 10))\n",
        "# # Plot image\n",
        "# for i in range(len(example_paths)):\n",
        "#     ax[i].imshow(pixel_arr[i], cmap=\"gray\")\n",
        "#     ax[i].set_title(f\"{ds[i].PatientID},{ds[i].SeriesDescription}\")\n"
      ],
      "metadata": {
        "id": "4YXvgq29Ce9G"
      },
      "execution_count": 9,
      "outputs": []
    },
    {
      "cell_type": "code",
      "source": [
        ""
      ],
      "metadata": {
        "id": "v4_BsyZbC8oV"
      },
      "execution_count": 9,
      "outputs": []
    },
    {
      "cell_type": "code",
      "source": [
        ""
      ],
      "metadata": {
        "id": "nu_-qM0JXhNA"
      },
      "execution_count": 9,
      "outputs": []
    },
    {
      "cell_type": "code",
      "source": [
        ""
      ],
      "metadata": {
        "id": "qJaRhG9zXhRt"
      },
      "execution_count": 9,
      "outputs": []
    },
    {
      "cell_type": "code",
      "source": [
        ""
      ],
      "metadata": {
        "id": "3KPVuclW0KDu"
      },
      "execution_count": 9,
      "outputs": []
    },
    {
      "cell_type": "code",
      "source": [
        ""
      ],
      "metadata": {
        "id": "GhueJkz40KHr"
      },
      "execution_count": 9,
      "outputs": []
    },
    {
      "cell_type": "code",
      "source": [
        ""
      ],
      "metadata": {
        "id": "hpKN7Rtd0KLB"
      },
      "execution_count": 9,
      "outputs": []
    },
    {
      "cell_type": "markdown",
      "source": [
        "#Managing the structure of files\n"
      ],
      "metadata": {
        "id": "u4ATijli0KNr"
      }
    },
    {
      "cell_type": "code",
      "source": [
        "# def count_dcm( top):\n",
        "\n",
        "#     \"\"\"\n",
        "#     This function recursively walks through a given directory\n",
        "#     (`top`) using depth-first search (bottom up) and counts the\n",
        "#     number of .dcm files present.\n",
        "\n",
        "#     Parameters\n",
        "#     ----------\n",
        "#     path : {str}\n",
        "#         The directory to count.\n",
        "\n",
        "#     Returns\n",
        "#     -------\n",
        "#     count : {int}\n",
        "#         The number of .dcm files in `path`.\n",
        "#     \"\"\"\n",
        "\n",
        "#     try:\n",
        "#         count = 0\n",
        "\n",
        "#         # Count number of .dcm files in ../data/Mass/Test.\n",
        "#         for _, _, files in os.walk(top):\n",
        "#             for f in files:\n",
        "#                 if f.endswith(\".dcm\"):\n",
        "#                     count += 1\n",
        "\n",
        "#     except Exception as e:\n",
        "#         print((f\"Unable to count_dcm!\\n{e}\"))\n",
        "\n",
        "#     return count"
      ],
      "metadata": {
        "id": "3iMqowu3XhVf"
      },
      "execution_count": 10,
      "outputs": []
    },
    {
      "cell_type": "code",
      "source": [
        "# count_dcm(top=\"/content/drive/MyDrive/CBIS-DDSM/Mass/Train\")"
      ],
      "metadata": {
        "id": "MpGl8bmtXjCE"
      },
      "execution_count": 11,
      "outputs": []
    },
    {
      "cell_type": "code",
      "source": [
        "# count_dcm(top=\"/content/drive/MyDrive/CBIS-DDSM/Calc\")"
      ],
      "metadata": {
        "id": "mZygYiMy-sC3"
      },
      "execution_count": 12,
      "outputs": []
    },
    {
      "cell_type": "code",
      "source": [
        "# before = count_dcm(top=DATA_FOLDER)\n",
        "# print(len(before))"
      ],
      "metadata": {
        "id": "sTSQRmJvXoNA"
      },
      "execution_count": 13,
      "outputs": []
    },
    {
      "cell_type": "code",
      "source": [
        ""
      ],
      "metadata": {
        "id": "PA1y0IHQtCj_"
      },
      "execution_count": 13,
      "outputs": []
    },
    {
      "cell_type": "code",
      "source": [
        ""
      ],
      "metadata": {
        "id": "_Cd0EGeMuGm3"
      },
      "execution_count": 13,
      "outputs": []
    },
    {
      "cell_type": "code",
      "source": [
        "# def new_name_dcm(dcm_path):\n",
        "\n",
        "#     \"\"\"\n",
        "#     This function takes the absolute path of a .dcm file\n",
        "#     and renames it according to the convention below:\n",
        "\n",
        "#     1. Full mammograms:\n",
        "#         - Mass-Training_P_00001_LEFT_CC_FULL.dcm\n",
        "#     2. Cropped image:\n",
        "#         - Mass-Training_P_00001_LEFT_CC_CROP_1.dcm\n",
        "#         - Mass-Training_P_00001_LEFT_CC_CROP_2.dcm\n",
        "#         - ...\n",
        "#     3. Mask image:\n",
        "#         - Mass-Training_P_00001_LEFT_CC_MASK_1.dcm\n",
        "#         - Mass-Training_P_00001_LEFT_CC_MASK_2.dcm\n",
        "#         - ...\n",
        "\n",
        "\n",
        "#     Parameters\n",
        "#     ----------\n",
        "#     dcm_path : {str}\n",
        "#         The relative (or absolute) path of the .dcm file\n",
        "#         to rename, including the .dcm filename.\n",
        "#         e.g. \"source_folder/Mass-Training_P_00001_LEFT_CC/1-1.dcm\"\n",
        "\n",
        "#     Returns\n",
        "#     -------\n",
        "#     new_name : {str}\n",
        "#         The new name that the .dcm file should have\n",
        "#         WITH the \".dcm\" extention WITHOUT its relative\n",
        "#         (or absolute) path.\n",
        "#         e.g. \"Mass-Training_P_00001_LEFT_CC_FULL.dcm\"\n",
        "#     False : {boolean}\n",
        "#         False is returned if the new name of the .dcm\n",
        "#         file cannot be determined.\n",
        "#     \"\"\"\n",
        "\n",
        "#     try:\n",
        "#         # Read dicom.\n",
        "#         ds = pydicom.dcmread(dcm_path)\n",
        "\n",
        "#         # Get information.\n",
        "#         patient_id = ds.PatientID\n",
        "#         patient_id = patient_id.replace(\".dcm\", \"\")\n",
        "\n",
        "#         try:\n",
        "#             # If ds contains SeriesDescription attribute...\n",
        "#             img_type = ds.SeriesDescription\n",
        "\n",
        "#             # === FULL ===\n",
        "#             if \"full\" in img_type:\n",
        "#                 new_name = patient_id + \"_FULL\" + \".dcm\"\n",
        "#                 print(f\"FULL --- {new_name}\")\n",
        "#                 return new_name\n",
        "\n",
        "#             # === CROP ===\n",
        "#             elif \"crop\" in img_type:\n",
        "\n",
        "#                 # Double check if suffix is integer.\n",
        "#                 suffix = patient_id.split(\"_\")[-1]\n",
        "\n",
        "#                 if suffix.isdigit():\n",
        "#                     new_patient_id = patient_id.split(\"_\" + suffix)[0]\n",
        "#                     new_name = new_patient_id + \"_CROP\" + \"_\" + suffix + \".dcm\"\n",
        "#                     print(f\"CROP --- {new_name}\")\n",
        "#                     return new_name\n",
        "\n",
        "#                 elif not suffix.isdigit():\n",
        "#                     print(f\"CROP ERROR, {patient_id}\")\n",
        "#                     return False\n",
        "\n",
        "#             # === MASK ===\n",
        "#             elif \"mask\" in img_type:\n",
        "\n",
        "#                 # Double check if suffix is integer.\n",
        "#                 suffix = patient_id.split(\"_\")[-1]\n",
        "\n",
        "#                 if suffix.isdigit():\n",
        "#                     new_patient_id = patient_id.split(\"_\" + suffix)[0]\n",
        "#                     new_name = new_patient_id + \"_MASK\" + \"_\" + suffix + \".dcm\"\n",
        "#                     print(f\"MASK --- {new_name}\")\n",
        "#                     return new_name\n",
        "\n",
        "#                 elif not suffix.isdigit():\n",
        "#                     print(f\"MASK ERROR, {patient_id}\")\n",
        "#                     return False\n",
        "\n",
        "#         except:\n",
        "#             # If ds does not contain SeriesDescription...\n",
        "#             # === FULL ===\n",
        "#             if \"full\" in dcm_path:\n",
        "#                 new_name = patient_id + \"_FULL\" + \".dcm\"\n",
        "#                 return new_name\n",
        "\n",
        "#             else:\n",
        "#                 # Read the image to decide if its a mask or crop.\n",
        "#                 # MASK only has pixel values {0, 1}\n",
        "#                 arr = ds.pixel_array\n",
        "#                 unique = np.unique(arr).tolist()\n",
        "\n",
        "#                 if len(unique) != 2:\n",
        "\n",
        "#                     # === CROP ===\n",
        "#                     # Double check if suffix is integer.\n",
        "#                     suffix = patient_id.split(\"_\")[-1]\n",
        "\n",
        "#                     if suffix.isdigit():\n",
        "#                         new_patient_id = patient_id.split(\"_\" + suffix)[0]\n",
        "#                         new_name = new_patient_id + \"_CROP\" + \"_\" + suffix + \".dcm\"\n",
        "#                         print(f\"CROP --- {new_name}\")\n",
        "#                         return new_name\n",
        "\n",
        "#                     elif not suffix.isdigit():\n",
        "#                         print(f\"CROP ERROR, {patient_id}\")\n",
        "#                         return False\n",
        "\n",
        "#                 elif len(unique) == 2:\n",
        "\n",
        "#                     # === MASK ===\n",
        "#                     # Double check if suffix is integer.\n",
        "#                     suffix = patient_id.split(\"_\")[-1]\n",
        "\n",
        "#                     if suffix.isdigit():\n",
        "#                         new_patient_id = patient_id.split(\"_\" + suffix)[0]\n",
        "#                         new_name = new_patient_id + \"_MASK\" + \"_\" + suffix + \".dcm\"\n",
        "#                         print(f\"MASK --- {new_name}\")\n",
        "#                         return new_name\n",
        "\n",
        "#                     elif not suffix.isdigit():\n",
        "#                         print(f\"MASK ERROR, {patient_id}\")\n",
        "#                         return False\n",
        "#                 else:\n",
        "#                     return img_type\n",
        "\n",
        "#     except Exception as e:\n",
        "#         # logger.error(f'Unable to new_name_dcm!\\n{e}')\n",
        "#         print((f\"Unable to new_name_dcm!\\n{e}\"))"
      ],
      "metadata": {
        "id": "ZlcAbtRquGsQ"
      },
      "execution_count": 14,
      "outputs": []
    },
    {
      "cell_type": "code",
      "source": [
        "# s=new_name_dcm(\"/content/drive/MyDrive/CBIS-DDSM-try/CBIS-DDSM/Mass-Test_P_00017_LEFT_CC_1/10-04-2016-DDSM-NA-30118/1.000000-ROI mask images-03672/1-2.dcm\")\n",
        "\n",
        "# print(\"sdfsdfsaf\",s)"
      ],
      "metadata": {
        "id": "GQMBuTAFuGvy"
      },
      "execution_count": 15,
      "outputs": []
    },
    {
      "cell_type": "code",
      "source": [
        "\n",
        "# ds = pydicom.dcmread(\"/content/drive/MyDrive/CBIS-DDSM-try/CBIS-DDSM/Mass-Test_P_00017_LEFT_CC_1/10-04-2016-DDSM-NA-30118/1.000000-ROI mask images-03672/1-2.dcm\")\n",
        "\n",
        "# plt.imshow(ds.pixel_array)\n",
        "\n",
        "# ds"
      ],
      "metadata": {
        "id": "Qgc5ewCO1HN0"
      },
      "execution_count": 16,
      "outputs": []
    },
    {
      "cell_type": "code",
      "source": [
        "# import shutil\n",
        "\n",
        "\n",
        "# def move_dcm_up(dest_dir, source_dir, dcm_filename):\n",
        "\n",
        "#     \"\"\"\n",
        "#     This function move a .dcm file from its given source\n",
        "#     directory into the given destination directory. It also\n",
        "#     handles conflicting filenames by adding \"___a\" to the\n",
        "#     end of a filename if the filename already exists in the\n",
        "#     destination directory.\n",
        "\n",
        "#     Parameters\n",
        "#     ----------\n",
        "#     dest_dir : {str}\n",
        "#         The relative (or absolute) path of the folder that\n",
        "#         the .dcm file needs to be moved to.\n",
        "#     source_dir : {str}\n",
        "#         The relative (or absolute) path where the .dcm file\n",
        "#         needs to be moved from, including the filename.\n",
        "#         e.g. \"source_folder/Mass-Training_P_00001_LEFT_CC_FULL.dcm\"\n",
        "#     dcm_filename : {str}\n",
        "#         The name of the .dcm file WITH the \".dcm\" extension\n",
        "#         but WITHOUT its (relative or absolute) path.\n",
        "#         e.g. \"Mass-Training_P_00001_LEFT_CC_FULL.dcm\".\n",
        "\n",
        "#     Returns\n",
        "#     -------\n",
        "#     None\n",
        "#     \"\"\"\n",
        "\n",
        "#     try:\n",
        "#         dest_dir_with_new_name = os.path.join(dest_dir, dcm_filename)\n",
        "\n",
        "#         # If the destination path does not exist yet...\n",
        "#         print(dcm_filename)\n",
        "#         print(dest_dir_with_new_name)\n",
        "#         if not os.path.exists(dest_dir_with_new_name):\n",
        "#             shutil.move(source_dir, dest_dir_with_new_name)\n",
        "\n",
        "#         # If the destination path already exists...\n",
        "#         elif os.path.exists(dest_dir_with_new_name):\n",
        "#             # Add \"_a\" to the end of `new_name` generated above.\n",
        "#             new_name_2 = dcm_filename.strip(\".dcm\") + \"___a.dcm\"\n",
        "#             print(new_name_2)\n",
        "#             move_dcm_up(dest_dir,source_dir,new_name_2)\n",
        "#             # This moves the file into the destination while giving the file its new name.\n",
        "#             # shutil.move(source_dir, os.path.join(dest_dir, new_name_2))\n",
        "\n",
        "#     except Exception as e:\n",
        "#         # logger.error(f'Unable to move_dcm_up!\\n{e}')\n",
        "#         print((f\"Unable to move_dcm_up!\\n{e}\"))"
      ],
      "metadata": {
        "id": "UaByUFUr1268"
      },
      "execution_count": 17,
      "outputs": []
    },
    {
      "cell_type": "code",
      "source": [
        "# source_dir=\"/content/drive/MyDrive/CBIS-DDSM-try/CBIS-DDSM/Mass-Test_P_00017_LEFT_CC_1/10-04-2016-DDSM-NA-30118/1.000000-ROI mask images-03672/1-2.dcm\"\n",
        "# dest_dir=\"/content/drive/MyDrive/CBIS-DDSM-try/Mass/Test\"\n",
        "# new_name='Mass-Test_P_00017_LEFT_CC_MASK_1.dcm'\n",
        "\n",
        "# move_dcm_up(dest_dir,source_dir,new_name)\n",
        "\n",
        "# # shutil.move(source_dir, os.path.join(dest_dir, new_name))"
      ],
      "metadata": {
        "id": "Uz3n7JHw2V1m"
      },
      "execution_count": 18,
      "outputs": []
    },
    {
      "cell_type": "code",
      "source": [
        "# from google.colab import files\n",
        "# uploaded = files.upload()\n",
        "\n",
        "# !cp \"1-2.dcm\" \"/content/drive/MyDrive/CBIS-DDSM/CBIS-DDSM/Mass-Training_P_00999_LEFT_CC_1/07-21-2016-DDSM-NA-73722/1.000000-ROI mask images-34958/1-2.dcm\""
      ],
      "metadata": {
        "id": "Y7V4cAYf4eKW"
      },
      "execution_count": 19,
      "outputs": []
    },
    {
      "cell_type": "code",
      "source": [
        ""
      ],
      "metadata": {
        "id": "EDewbPR45cmk"
      },
      "execution_count": 19,
      "outputs": []
    },
    {
      "cell_type": "code",
      "source": [
        ""
      ],
      "metadata": {
        "id": "tY1gpyEq53uA"
      },
      "execution_count": 19,
      "outputs": []
    },
    {
      "cell_type": "code",
      "source": [
        "# import pandas as pd\n",
        "\n",
        "\n",
        "# def delete_empty_folders(top, error_dir):\n",
        "\n",
        "#     \"\"\"\n",
        "#     This function recursively walks through a given directory\n",
        "#     (`top`) using depth-first search (bottom up) and deletes\n",
        "#     any directory that is empty (ignoring hidden files).\n",
        "#     If there are directories that are not empty (except hidden\n",
        "#     files), it will save the absolute directory in a Pandas\n",
        "#     dataframe and export it as a `not-empty-folders.csv` to\n",
        "#     `error_dir`.\n",
        "\n",
        "#     Parameters\n",
        "#     ----------\n",
        "#     top : {str}\n",
        "#         The directory to iterate through.\n",
        "#     error_dir : {str}\n",
        "#         The directory to save the `not-empty-folders.csv` to.\n",
        "\n",
        "#     Returns\n",
        "#     -------\n",
        "#     None\n",
        "#     \"\"\"\n",
        "\n",
        "#     try:\n",
        "#         curdir_list = []\n",
        "#         files_list = []\n",
        "\n",
        "#         for (curdir, dirs, files) in os.walk(top=top, topdown=False):\n",
        "\n",
        "#             if curdir != str(top):\n",
        "\n",
        "#                 dirs.sort()\n",
        "#                 files.sort()\n",
        "\n",
        "#                 print(f\"WE ARE AT: {curdir}\")\n",
        "#                 print(\"=\" * 10)\n",
        "\n",
        "#                 print(\"List dir:\")\n",
        "\n",
        "#                 directories_list = [\n",
        "#                     f for f in os.listdir(curdir) if not f.startswith(\".\")\n",
        "#                 ]\n",
        "#                 print(directories_list)\n",
        "\n",
        "#                 if len(directories_list) == 0:\n",
        "#                     print(\"DELETE\")\n",
        "#                     shutil.rmtree(curdir, ignore_errors=True)\n",
        "\n",
        "#                 elif len(directories_list) > 0:\n",
        "#                     print(\"DON'T DELETE\")\n",
        "#                     curdir_list.append(curdir)\n",
        "#                     files_list.append(directories_list)\n",
        "\n",
        "#                 print()\n",
        "#                 print(\"Moving one folder up...\")\n",
        "#                 print(\"-\" * 40)\n",
        "#                 print()\n",
        "\n",
        "#         if len(curdir_list) > 0:\n",
        "#             not_empty_df = pd.DataFrame(\n",
        "#                 list(zip(curdir_list, files_list)), columns=[\"curdir\", \"files\"]\n",
        "#             )\n",
        "#             to_save_path = os.path.join(error_dir, \"not-empty-folders.csv\")\n",
        "#             not_empty_df.to_csv(to_save_path, index=False)\n",
        "\n",
        "#     except Exception as e:\n",
        "#         # logger.error(f'Unable to delete_empty_folders!\\n{e}')\n",
        "#         print((f\"Unable to delete_empty_folders!\\n{e}\"))\n"
      ],
      "metadata": {
        "id": "5Gat7IRo6C_j"
      },
      "execution_count": 20,
      "outputs": []
    },
    {
      "cell_type": "code",
      "source": [
        "# top = \"/content/drive/MyDrive/CBIS-DDSM-try/CBIS-DDSM\"\n",
        "# delete_empty_folders(top, top)"
      ],
      "metadata": {
        "id": "A0jNDqIU_tEf"
      },
      "execution_count": 21,
      "outputs": []
    },
    {
      "cell_type": "code",
      "source": [
        ""
      ],
      "metadata": {
        "id": "_GsSz85JEGw0"
      },
      "execution_count": 21,
      "outputs": []
    },
    {
      "cell_type": "code",
      "source": [
        ""
      ],
      "metadata": {
        "id": "UA7NA1ecEG3Q"
      },
      "execution_count": 21,
      "outputs": []
    },
    {
      "cell_type": "code",
      "source": [
        ""
      ],
      "metadata": {
        "id": "1frmYzm7EG7x"
      },
      "execution_count": 21,
      "outputs": []
    },
    {
      "cell_type": "code",
      "source": [
        "# import os\n",
        "# import shutil\n",
        "# import pprint\n",
        "# import pandas as pd\n",
        "# import numpy as np\n",
        "# import pydicom\n",
        "# from pathlib import Path"
      ],
      "metadata": {
        "id": "9XCvPaOL_tnB"
      },
      "execution_count": 22,
      "outputs": []
    },
    {
      "cell_type": "code",
      "source": [
        "# #Make the file structure\n",
        "\n",
        "# top = \"/content/drive/MyDrive/CBIS-DDSM-try\"\n"
      ],
      "metadata": {
        "id": "LaveIszj_tqo"
      },
      "execution_count": 23,
      "outputs": []
    },
    {
      "cell_type": "code",
      "source": [
        "# top = Path(top)\n",
        "\n",
        "# # ==============================================\n",
        "# # 1. Count number of .dcm files BEFORE executing\n",
        "# # ==============================================\n",
        "# before = count_dcm(top=top)\n",
        "\n",
        "# print(\"before\",before)\n",
        "# print(\"-\" * 30)\n",
        "# print(\"-\" * 30)\n",
        "# # ==========\n",
        "# # 2. Execute\n",
        "# # ==========\n",
        "\n",
        "# a=0\n",
        "\n",
        "# # 2.1. Rename and move .dcm files.\n",
        "# # --------------------------------\n",
        "# for (curdir, dirs, files) in os.walk(top=top, topdown=False):\n",
        "\n",
        "#     dirs.sort()\n",
        "#     files.sort()\n",
        "    \n",
        "\n",
        "#     for f in files:\n",
        "\n",
        "#         # === Step 1: Rename .dcm file ===\n",
        "#         if f.endswith(\".dcm\"):\n",
        "\n",
        "#             a+=1\n",
        "\n",
        "#             old_name_path = os.path.join(curdir, f)\n",
        "#             new_name = new_name_dcm(dcm_path=old_name_path)\n",
        "\n",
        "#             if new_name:\n",
        "#                 new_name_path = os.path.join(curdir, new_name)\n",
        "#                 os.rename(old_name_path, new_name_path)\n",
        "\n",
        "#                 # === Step 2: Move RENAMED .dcm file ===\n",
        "#                 if \"Mass\" in new_name_path: \n",
        "#                   path_1=\"Mass\"\n",
        "#                 elif \"Calc\" in new_name_path:\n",
        "#                   path_1=\"Calc\"\n",
        "                \n",
        "#                 if \"Train\" in new_name_path:\n",
        "#                   path_2=\"Train\"\n",
        "#                 elif \"Test\" in new_name_path:\n",
        "#                   path_2=\"Test\"\n",
        "\n",
        "                \n",
        "#                 # print(\"to_folder\",os.path.join(top, path_1, path_2),\"\\n\",\n",
        "#                 #       \"fron_dir\",new_name_path,\"\\n\"\n",
        "#                 #       \"new_file_name\", new_name)\n",
        "\n",
        "#                 if a%100 == 0:\n",
        "#                   print(\"here is a\", a)\n",
        "                \n",
        "#                 move_dcm_up(\n",
        "#                     dest_dir=os.path.join(top, path_1, path_2), \n",
        "#                     source_dir=new_name_path, \n",
        "#                     dcm_filename=new_name\n",
        "#                 )\n",
        "\n",
        "# # 2.2. Delete empty folders.\n",
        "# # --------------------------\n",
        "# delete_empty_folders(top=top, error_dir=top)\n",
        "\n",
        "# # =============================================\n",
        "# # 3. Count number of .dcm files AFTER executing\n",
        "# # =============================================\n",
        "# after = count_dcm(top=top)\n",
        "\n",
        "# print(f\"BEFORE --> Number of .dcm files: {before}\")\n",
        "# print(f\"AFTER --> Number of .dcm files: {after}\")\n",
        "# print()\n",
        "# print(\"Getting out of extractDicom.\")\n",
        "# print(\"-\" * 30)\n"
      ],
      "metadata": {
        "id": "-kW6fB-cC0YV"
      },
      "execution_count": 24,
      "outputs": []
    },
    {
      "cell_type": "code",
      "source": [
        "###### Checked and removed misspelled files###\n",
        "\n",
        "# a=0\n",
        "# base=\"/content/drive/MyDrive/CBIS-DDSM/Mass/Train\"\n",
        "# for (curdir, dirs, files) in os.walk(base):\n",
        "#   with_as=[x for x in files if \"__a\" in x]\n",
        "\n",
        "# for i in with_as:\n",
        "#   old_path_name=os.path.join(base,i)\n",
        "#   new_path_name=os.path.join(base,i.replace(\"___a\",\"\"))\n",
        "#   os.rename(old_path_name, new_path_name)\n",
        "#   print(\"old_path_name\",old_path_name,\"\\n new_path_name\",new_path_name)\n",
        "\n",
        "# # print(len(as_full))\n",
        "# # as_full\n",
        "\n",
        "# print(len(with_as))"
      ],
      "metadata": {
        "id": "a7yq2d60DPRF"
      },
      "execution_count": 25,
      "outputs": []
    },
    {
      "cell_type": "code",
      "source": [
        "# for (curdir, dirs, files) in os.walk(top=\"/content/drive/MyDrive/CBIS-DDSM/CBIS-DDSM\", topdown=False):\n",
        "#   if len(files)>0:\n",
        "#     print(files[0])\n",
        "#   print(len(files))"
      ],
      "metadata": {
        "id": "8hczsiLdJwML"
      },
      "execution_count": 26,
      "outputs": []
    },
    {
      "cell_type": "code",
      "source": [
        ""
      ],
      "metadata": {
        "id": "gYBaT4L0JwP7"
      },
      "execution_count": 25,
      "outputs": []
    },
    {
      "cell_type": "code",
      "source": [
        ""
      ],
      "metadata": {
        "id": "SHQbO9gAJwTM"
      },
      "execution_count": null,
      "outputs": []
    },
    {
      "cell_type": "code",
      "source": [
        ""
      ],
      "metadata": {
        "id": "3OYFqrn0JwVs"
      },
      "execution_count": 27,
      "outputs": []
    },
    {
      "cell_type": "code",
      "source": [
        ""
      ],
      "metadata": {
        "id": "O-wX6jrFJwY5"
      },
      "execution_count": 27,
      "outputs": []
    },
    {
      "cell_type": "code",
      "source": [
        ""
      ],
      "metadata": {
        "id": "Hmn2OXHBKndU"
      },
      "execution_count": 27,
      "outputs": []
    },
    {
      "cell_type": "code",
      "source": [
        ""
      ],
      "metadata": {
        "id": "DULEDzgJJwb8"
      },
      "execution_count": null,
      "outputs": []
    },
    {
      "cell_type": "code",
      "source": [
        ""
      ],
      "metadata": {
        "id": "IQuVjBL3Jwep"
      },
      "execution_count": null,
      "outputs": []
    },
    {
      "cell_type": "code",
      "source": [
        ""
      ],
      "metadata": {
        "id": "Ddyx1JuS9G0J"
      },
      "execution_count": null,
      "outputs": []
    },
    {
      "cell_type": "code",
      "source": [
        "#Image Preprocesing"
      ],
      "metadata": {
        "id": "NIjHd7Pc9G5X"
      },
      "execution_count": null,
      "outputs": []
    },
    {
      "cell_type": "code",
      "source": [
        "import numpy as np\n",
        "import cv2\n",
        "import pydicom"
      ],
      "metadata": {
        "id": "XmAEWKMl9G85"
      },
      "execution_count": 28,
      "outputs": []
    },
    {
      "cell_type": "code",
      "source": [
        "def cropBorders(img, l=0.01, r=0.01, u=0.04, d=0.04):\n",
        "\n",
        "    nrows, ncols = img.shape\n",
        "\n",
        "    # Get the start and end rows and columns\n",
        "    l_crop = int(ncols * l)\n",
        "    r_crop = int(ncols * (1 - r))\n",
        "    u_crop = int(nrows * u)\n",
        "    d_crop = int(nrows * (1 - d))\n",
        "\n",
        "    cropped_img = img[u_crop:d_crop, l_crop:r_crop]\n",
        "\n",
        "    return cropped_img"
      ],
      "metadata": {
        "id": "6WMOJEM0E6qA"
      },
      "execution_count": 29,
      "outputs": []
    },
    {
      "cell_type": "code",
      "source": [
        "def minMaxNormalise(img):\n",
        "\n",
        "    norm_img = (img - img.min()) / (img.max() - img.min())\n",
        "\n",
        "    return norm_img"
      ],
      "metadata": {
        "id": "aIxkeFm0FC3k"
      },
      "execution_count": 30,
      "outputs": []
    },
    {
      "cell_type": "code",
      "source": [
        "def globalBinarise(img, thresh, maxval):\n",
        "\n",
        "    binarised_img = np.zeros(img.shape, np.uint8)\n",
        "    binarised_img[img >= thresh] = maxval\n",
        "\n",
        "    return binarised_img\n"
      ],
      "metadata": {
        "id": "ihJQD4g4FDYB"
      },
      "execution_count": 31,
      "outputs": []
    },
    {
      "cell_type": "code",
      "source": [
        "def editMask(mask, ksize=(23, 23), operation=\"open\"):\n",
        "\n",
        "    kernel = cv2.getStructuringElement(shape=cv2.MORPH_RECT, ksize=ksize)\n",
        "\n",
        "    if operation == \"open\":\n",
        "        edited_mask = cv2.morphologyEx(mask, cv2.MORPH_OPEN, kernel)\n",
        "    elif operation == \"close\":\n",
        "        edited_mask = cv2.morphologyEx(mask, cv2.MORPH_CLOSE, kernel)\n",
        "\n",
        "    # Then dilate\n",
        "    edited_mask = cv2.morphologyEx(edited_mask, cv2.MORPH_DILATE, kernel)\n",
        "\n",
        "    return edited_mask"
      ],
      "metadata": {
        "id": "-pa9x_V3LE9J"
      },
      "execution_count": 32,
      "outputs": []
    },
    {
      "cell_type": "code",
      "source": [
        "def sortContoursByArea(contours, reverse=True):\n",
        "\n",
        "    # Sort contours based on contour area.\n",
        "    sorted_contours = sorted(contours, key=cv2.contourArea, reverse=reverse)\n",
        "\n",
        "    # Construct the list of corresponding bounding boxes.\n",
        "    bounding_boxes = [cv2.boundingRect(c) for c in sorted_contours]\n",
        "\n",
        "    return sorted_contours, bounding_boxes"
      ],
      "metadata": {
        "id": "PIo2mFqpLHNZ"
      },
      "execution_count": 33,
      "outputs": []
    },
    {
      "cell_type": "code",
      "source": [
        "def xLargestBlobs(mask, top_x=None, reverse=True):\n",
        "\n",
        "    # Find all contours from binarised image.\n",
        "    # Note: parts of the image that you want to get should be white.\n",
        "    contours, hierarchy = cv2.findContours(\n",
        "        image=mask, mode=cv2.RETR_EXTERNAL, method=cv2.CHAIN_APPROX_NONE\n",
        "    )\n",
        "\n",
        "    n_contours = len(contours)\n",
        "\n",
        "    # Only get largest blob if there is at least 1 contour.\n",
        "    if n_contours > 0:\n",
        "\n",
        "        # Make sure that the number of contours to keep is at most equal\n",
        "        # to the number of contours present in the mask.\n",
        "        if n_contours < top_x or top_x == None:\n",
        "            top_x = n_contours\n",
        "\n",
        "        # Sort contours based on contour area.\n",
        "        sorted_contours, bounding_boxes = sortContoursByArea(\n",
        "            contours=contours, reverse=reverse\n",
        "        )\n",
        "\n",
        "        # Get the top X largest contours.\n",
        "        X_largest_contours = sorted_contours[0:top_x]\n",
        "\n",
        "        # Create black canvas to draw contours on.\n",
        "        to_draw_on = np.zeros(mask.shape, np.uint8)\n",
        "\n",
        "        # Draw contours in X_largest_contours.\n",
        "        X_largest_blobs = cv2.drawContours(\n",
        "            image=to_draw_on,  # Draw the contours on `to_draw_on`.\n",
        "            contours=X_largest_contours,  # List of contours to draw.\n",
        "            contourIdx=-1,  # Draw all contours in `contours`.\n",
        "            color=1,  # Draw the contours in white.\n",
        "            thickness=-1,  # Thickness of the contour lines.\n",
        "        )\n",
        "\n",
        "    return n_contours, X_largest_blobs"
      ],
      "metadata": {
        "id": "Z7lW4fE8LRKp"
      },
      "execution_count": 34,
      "outputs": []
    },
    {
      "cell_type": "code",
      "source": [
        "def applyMask(img, mask):\n",
        "\n",
        "    masked_img = img.copy()\n",
        "    masked_img[mask == 0] = 0\n",
        "\n",
        "    return masked_img"
      ],
      "metadata": {
        "id": "OyXQwGmKLal5"
      },
      "execution_count": 35,
      "outputs": []
    },
    {
      "cell_type": "code",
      "source": [
        "def checkLRFlip(mask):\n",
        "\n",
        "    # Get number of rows and columns in the image.\n",
        "    nrows, ncols = mask.shape\n",
        "    x_center = ncols // 2\n",
        "    y_center = nrows // 2\n",
        "\n",
        "    # Sum down each column.\n",
        "    col_sum = mask.sum(axis=0)\n",
        "    # Sum across each row.\n",
        "    row_sum = mask.sum(axis=1)\n",
        "\n",
        "    left_sum = sum(col_sum[0:x_center])\n",
        "    right_sum = sum(col_sum[x_center:-1])\n",
        "\n",
        "    if left_sum < right_sum:\n",
        "        LR_flip = True\n",
        "    else:\n",
        "        LR_flip = False\n",
        "\n",
        "    return LR_flip\n",
        "\n",
        "\n",
        "def makeLRFlip(img):\n",
        "\n",
        "    flipped_img = np.fliplr(img)\n",
        "\n",
        "    return flipped_img"
      ],
      "metadata": {
        "id": "PtCUCXmdMlK2"
      },
      "execution_count": null,
      "outputs": []
    },
    {
      "cell_type": "code",
      "source": [
        "def clahe(img, clip=2.0, tile=(8, 8)):\n",
        "\n",
        "    img = cv2.normalize(\n",
        "        img,\n",
        "        None,\n",
        "        alpha=0,\n",
        "        beta=255,\n",
        "        norm_type=cv2.NORM_MINMAX,\n",
        "        dtype=cv2.CV_32F,\n",
        "    )\n",
        "    img_uint8 = img.astype(\"uint8\")\n",
        "\n",
        "    clahe_create = cv2.createCLAHE(clipLimit=clip, tileGridSize=tile)\n",
        "    clahe_img = clahe_create.apply(img_uint8)\n",
        "\n",
        "    return clahe_img"
      ],
      "metadata": {
        "id": "IEq9dFWvM1c6"
      },
      "execution_count": null,
      "outputs": []
    },
    {
      "cell_type": "code",
      "source": [
        "def pad(img):\n",
        "\n",
        "    nrows, ncols = img.shape\n",
        "\n",
        "    # If padding is required...\n",
        "    if nrows != ncols:\n",
        "\n",
        "        # Take the longer side as the target shape.\n",
        "        if ncols < nrows:\n",
        "            target_shape = (nrows, nrows)\n",
        "        elif nrows < ncols:\n",
        "            target_shape = (ncols, ncols)\n",
        "\n",
        "        # pad.\n",
        "        padded_img = np.zeros(shape=target_shape)\n",
        "        padded_img[:nrows, :ncols] = img\n",
        "\n",
        "    # If padding is not required...\n",
        "    elif nrows == ncols:\n",
        "\n",
        "        # Return original image.\n",
        "        padded_img = img\n",
        "\n",
        "    return padded_img"
      ],
      "metadata": {
        "id": "3-0_hpt_NBz6"
      },
      "execution_count": null,
      "outputs": []
    },
    {
      "cell_type": "code",
      "source": [
        "l=.001\n",
        "r=.04\n",
        "d=.01\n",
        "u=0.1\n",
        "thresh=0.1\n",
        "maxval=1\n",
        "ksize=23 \n",
        "operation=\"open\"\n",
        "reverse=True\n",
        "top_x=1\n",
        "clip=2.0\n",
        "tile=8"
      ],
      "metadata": {
        "id": "8MQpKWGPXVBh"
      },
      "execution_count": null,
      "outputs": []
    },
    {
      "cell_type": "code",
      "source": [
        "def fullMammoPreprocess(img,\n",
        "                        l=l,\n",
        "                        r=r,\n",
        "                        d=d,\n",
        "                        u=u,\n",
        "                        thresh=thresh,\n",
        "                        maxval=maxval,\n",
        "                        ksize=ksize, \n",
        "                        operation=operation,\n",
        "                        reverse=reverse,\n",
        "                        top_x=top_x,\n",
        "                        clip=clip,\n",
        "                        tile=tile):\n",
        "\n",
        "    # Step 1: Initial crop.\n",
        "    cropped_img = cropBorders(img=img, l=l, r=r, d=d, u=u)\n",
        "\n",
        "    # Step 2: Min-max normalise.\n",
        "    norm_img = minMaxNormalise(img=cropped_img)\n",
        "\n",
        "    # Step 3: Remove artefacts.\n",
        "    binarised_img = globalBinarise(img=norm_img, thresh=thresh, maxval=maxval)\n",
        "    edited_mask = editMask(\n",
        "        mask=binarised_img, ksize=(ksize, ksize), operation=operation\n",
        "    )\n",
        "    _, xlargest_mask = xLargestBlobs(mask=edited_mask, top_x=top_x, reverse=reverse)\n",
        "\n",
        "    masked_img = applyMask(img=norm_img, mask=xlargest_mask)\n",
        "\n",
        "    # Step 4: Horizontal flip.\n",
        "    lr_flip = checkLRFlip(mask=xlargest_mask)\n",
        "    if lr_flip:\n",
        "        flipped_img = makeLRFlip(img=masked_img)\n",
        "    elif not lr_flip:\n",
        "        flipped_img = masked_img\n",
        "\n",
        "    # Step 5: CLAHE enhancement.\n",
        "    clahe_img = clahe(img=flipped_img, clip=clip, tile=(tile, tile))\n",
        "\n",
        "    # Step 6: pad.\n",
        "    padded_img = pad(img=clahe_img)\n",
        "    padded_img = cv2.normalize(\n",
        "        padded_img,\n",
        "        None,\n",
        "        alpha=0,\n",
        "        beta=255,\n",
        "        norm_type=cv2.NORM_MINMAX,\n",
        "        dtype=cv2.CV_32F,\n",
        "    )\n",
        "\n",
        "    # Step 7: Min-max normalise.\n",
        "    img_pre = minMaxNormalise(img=padded_img)\n",
        "\n",
        "    return img_pre, lr_flip"
      ],
      "metadata": {
        "id": "QOw-ATCqNWWJ"
      },
      "execution_count": null,
      "outputs": []
    },
    {
      "cell_type": "code",
      "source": [
        "ds = pydicom.dcmread(\"/content/drive/MyDrive/CBIS-DDSM/Mass/Test/Mass-Test_P_00016_LEFT_CC_FULL.dcm\")\n",
        "plt.imshow(ds.pixel_array)\n",
        "\n",
        "ds.pixel_array.shape\n"
      ],
      "metadata": {
        "colab": {
          "base_uri": "https://localhost:8080/",
          "height": 286
        },
        "id": "YKlnMkcbPvq2",
        "outputId": "dc033b5d-1a5c-485e-c6d9-3948a37c9b54"
      },
      "execution_count": null,
      "outputs": [
        {
          "output_type": "execute_result",
          "data": {
            "text/plain": [
              "(4006, 1846)"
            ]
          },
          "metadata": {},
          "execution_count": 89
        },
        {
          "output_type": "display_data",
          "data": {
            "image/png": "[encoded data removed]",
            "text/plain": [
              "<Figure size 432x288 with 1 Axes>"
            ]
          },
          "metadata": {
            "needs_background": "light"
          }
        }
      ]
    },
    {
      "cell_type": "code",
      "source": [
        "img_pre, lr_flip = fullMammoPreprocess(ds.pixel_array)\n",
        "plt.imshow(img_pre)\n",
        "# plt.imshow(lr_flip)\n",
        "\n",
        "img_pre.shape"
      ],
      "metadata": {
        "colab": {
          "base_uri": "https://localhost:8080/",
          "height": 286
        },
        "id": "ChuetDm3QQLm",
        "outputId": "0be549e0-a97e-49b3-98c8-3d8da53fbd31"
      },
      "execution_count": null,
      "outputs": [
        {
          "output_type": "execute_result",
          "data": {
            "text/plain": [
              "(3565, 3565)"
            ]
          },
          "metadata": {},
          "execution_count": 101
        },
        {
          "output_type": "display_data",
          "data": {
            "image/png": "[encoded data removed]",
            "text/plain": [
              "<Figure size 432x288 with 1 Axes>"
            ]
          },
          "metadata": {
            "needs_background": "light"
          }
        }
      ]
    },
    {
      "cell_type": "code",
      "source": [
        "def maskPreprocess(mask, \n",
        "                   lr_flip,\n",
        "                   l=l,\n",
        "                   r=r,\n",
        "                   d=d,\n",
        "                   u=u):\n",
        "\n",
        "    # Step 1: Initial crop.\n",
        "    cropped_img = cropBorders(img=mask, l=l, r=r, d=d, u=u)\n",
        "\n",
        "    # Step 2: Horizontal flip.\n",
        "    if lr_flip:\n",
        "        cropped_img = makeLRFlip(img=cropped_img)\n",
        "\n",
        "    # Step 3: Pad.\n",
        "    mask_pre = pad(img=cropped_img)\n",
        "\n",
        "    return mask_pre"
      ],
      "metadata": {
        "id": "rXFxVivzRG97"
      },
      "execution_count": null,
      "outputs": []
    },
    {
      "cell_type": "code",
      "source": [
        "mask = pydicom.dcmread(\"/content/drive/MyDrive/CBIS-DDSM/Mass/Test/Mass-Test_P_00016_LEFT_CC_MASK_1.dcm\")\n",
        "plt.imshow(mask.pixel_array)\n",
        "\n",
        "mask.pixel_array.shape\n"
      ],
      "metadata": {
        "colab": {
          "base_uri": "https://localhost:8080/",
          "height": 286
        },
        "id": "usm4RCMoVWXg",
        "outputId": "49a2317b-afda-45c2-8c1c-672d0f2628ab"
      },
      "execution_count": null,
      "outputs": [
        {
          "output_type": "execute_result",
          "data": {
            "text/plain": [
              "(4006, 1846)"
            ]
          },
          "metadata": {},
          "execution_count": 96
        },
        {
          "output_type": "display_data",
          "data": {
            "image/png": "[encoded data removed]",
            "text/plain": [
              "<Figure size 432x288 with 1 Axes>"
            ]
          },
          "metadata": {
            "needs_background": "light"
          }
        }
      ]
    },
    {
      "cell_type": "code",
      "source": [
        "masked_preprocessed=maskPreprocess(mask=mask.pixel_array,lr_flip=lr_flip)\n",
        "\n",
        "\n",
        "plt.imshow(masked_preprocessed)\n",
        "masked_preprocessed.shape"
      ],
      "metadata": {
        "colab": {
          "base_uri": "https://localhost:8080/",
          "height": 286
        },
        "id": "5MFkR6QHVpnf",
        "outputId": "9b482282-1188-4182-d38b-6875ccbac61e"
      },
      "execution_count": null,
      "outputs": [
        {
          "output_type": "execute_result",
          "data": {
            "text/plain": [
              "(3565, 3565)"
            ]
          },
          "metadata": {},
          "execution_count": 100
        },
        {
          "output_type": "display_data",
          "data": {
            "image/png": "[encoded data removed]",
            "text/plain": [
              "<Figure size 432x288 with 1 Axes>"
            ]
          },
          "metadata": {
            "needs_background": "light"
          }
        }
      ]
    },
    {
      "cell_type": "code",
      "source": [
        ""
      ],
      "metadata": {
        "id": "lV4Zue4tWGQQ"
      },
      "execution_count": null,
      "outputs": []
    },
    {
      "cell_type": "code",
      "source": [
        ""
      ],
      "metadata": {
        "id": "OoXtpivhdWZK"
      },
      "execution_count": null,
      "outputs": []
    },
    {
      "cell_type": "code",
      "source": [
        ""
      ],
      "metadata": {
        "id": "btLn5wYOdWcl"
      },
      "execution_count": null,
      "outputs": []
    },
    {
      "cell_type": "code",
      "source": [
        "def sumMasks(mask_list):\n",
        "\n",
        "    \"\"\"\n",
        "    This function sums a list of given masks.\n",
        "    Parameters\n",
        "    ----------\n",
        "    mask_list : {list of numpy.ndarray}\n",
        "        A list of masks (numpy.ndarray) that needs to be summed.\n",
        "    Returns\n",
        "    -------\n",
        "    summed_mask_bw: {numpy.ndarray}\n",
        "        The summed mask, ranging from [0, 1].\n",
        "    \"\"\"\n",
        "\n",
        "    try:\n",
        "\n",
        "        summed_mask = np.zeros(mask_list[0].shape)\n",
        "\n",
        "        for arr in mask_list:\n",
        "            summed_mask = np.add(summed_mask, arr)\n",
        "\n",
        "        # Binarise (there might be some overlap, resulting in pixels with\n",
        "        # values of 510, 765, etc...)\n",
        "        _, summed_mask_bw = cv2.threshold(\n",
        "            src=summed_mask, thresh=1, maxval=255, type=cv2.THRESH_BINARY\n",
        "        )\n",
        "\n",
        "    except Exception as e:\n",
        "        # logger.error(f'Unable to findMultiTumour!\\n{e}')\n",
        "        print((f\"Unable to get findMultiTumour!\\n{e}\"))\n",
        "\n",
        "    return summed_mask_bw"
      ],
      "metadata": {
        "id": "Xy9jL6qrdWfX"
      },
      "execution_count": null,
      "outputs": []
    },
    {
      "cell_type": "code",
      "source": [
        ""
      ],
      "metadata": {
        "id": "HgBXh5-3dc-r"
      },
      "execution_count": null,
      "outputs": []
    },
    {
      "cell_type": "code",
      "source": [
        ""
      ],
      "metadata": {
        "id": "dJNeyQyZiRHU"
      },
      "execution_count": null,
      "outputs": []
    },
    {
      "cell_type": "code",
      "source": [
        ""
      ],
      "metadata": {
        "id": "8rbVwy45iRLw"
      },
      "execution_count": null,
      "outputs": []
    },
    {
      "cell_type": "code",
      "source": [
        ""
      ],
      "metadata": {
        "id": "30amiA5siRPU",
        "colab": {
          "base_uri": "https://localhost:8080/"
        },
        "outputId": "c31a3ba2-de07-4990-c762-aa64966f121a"
      },
      "execution_count": null,
      "outputs": [
        {
          "output_type": "stream",
          "name": "stdout",
          "text": [
            "0\n"
          ]
        }
      ]
    },
    {
      "cell_type": "code",
      "source": [
        ""
      ],
      "metadata": {
        "id": "nZSFM4W3iRSR"
      },
      "execution_count": null,
      "outputs": []
    },
    {
      "cell_type": "code",
      "source": [
        ""
      ],
      "metadata": {
        "id": "gQf1fosBiRUy"
      },
      "execution_count": null,
      "outputs": []
    },
    {
      "cell_type": "code",
      "source": [
        ""
      ],
      "metadata": {
        "id": "x70PoKtJxecE"
      },
      "execution_count": null,
      "outputs": []
    },
    {
      "cell_type": "code",
      "source": [
        "a=0\n",
        "for (curdir, dirs, files) in os.walk(\"/content/drive/MyDrive/CBIS-DDSM/Mass/Train\"):\n",
        "  as_2_mask=[x for x in files if (\"_2\" in x) and (\"MASK\" in x)]\n",
        "\n",
        "print(len(as_2_mask))\n",
        "as_2_mask"
      ],
      "metadata": {
        "id": "_9egRTi3xehx",
        "colab": {
          "base_uri": "https://localhost:8080/"
        },
        "outputId": "94c8f59a-fa41-4a72-ef2c-5c2fa48dbe23"
      },
      "execution_count": null,
      "outputs": [
        {
          "output_type": "stream",
          "name": "stdout",
          "text": [
            "68\n"
          ]
        },
        {
          "output_type": "execute_result",
          "data": {
            "text/plain": [
              "['Mass-Training_P_01039_RIGHT_MLO_MASK_2.dcm',\n",
              " 'Mass-Training_P_00914_LEFT_CC_MASK_2.dcm',\n",
              " 'Mass-Training_P_01600_RIGHT_MLO_MASK_2.dcm',\n",
              " 'Mass-Training_P_01343_LEFT_CC_MASK_2.dcm',\n",
              " 'Mass-Training_P_00778_RIGHT_MLO_MASK_2.dcm',\n",
              " 'Mass-Training_P_00432_LEFT_CC_MASK_2.dcm',\n",
              " 'Mass-Training_P_00207_LEFT_CC_MASK_2.dcm',\n",
              " 'Mass-Training_P_00044_RIGHT_CC_MASK_2.dcm',\n",
              " 'Mass-Training_P_00106_RIGHT_MLO_MASK_2.dcm',\n",
              " 'Mass-Training_P_01494_LEFT_MLO_MASK_2.dcm',\n",
              " 'Mass-Training_P_00914_LEFT_MLO_MASK_2.dcm',\n",
              " 'Mass-Training_P_00309_LEFT_MLO_MASK_2.dcm',\n",
              " 'Mass-Training_P_00432_LEFT_MLO_MASK_2.dcm',\n",
              " 'Mass-Training_P_01273_RIGHT_CC_MASK_2.dcm',\n",
              " 'Mass-Training_P_01262_RIGHT_CC_MASK_2.dcm',\n",
              " 'Mass-Training_P_00092_LEFT_MLO_MASK_2.dcm',\n",
              " 'Mass-Training_P_00678_LEFT_MLO_MASK_2.dcm',\n",
              " 'Mass-Training_P_00309_LEFT_CC_MASK_2.dcm',\n",
              " 'Mass-Training_P_00431_RIGHT_MLO_MASK_2.dcm',\n",
              " 'Mass-Training_P_01103_RIGHT_MLO_MASK_2.dcm',\n",
              " 'Mass-Training_P_00802_LEFT_MLO_MASK_2.dcm',\n",
              " 'Mass-Training_P_00106_LEFT_CC_MASK_2.dcm',\n",
              " 'Mass-Training_P_00797_LEFT_MLO_MASK_2.dcm',\n",
              " 'Mass-Training_P_00328_RIGHT_MLO_MASK_2.dcm',\n",
              " 'Mass-Training_P_01343_LEFT_MLO_MASK_2.dcm',\n",
              " 'Mass-Training_P_01218_RIGHT_MLO_MASK_2.dcm',\n",
              " 'Mass-Training_P_01632_LEFT_CC_MASK_2.dcm',\n",
              " 'Mass-Training_P_00044_RIGHT_MLO_MASK_2.dcm',\n",
              " 'Mass-Training_P_00419_LEFT_MLO_MASK_2.dcm',\n",
              " 'Mass-Training_P_01803_RIGHT_MLO_MASK_2.dcm',\n",
              " 'Mass-Training_P_01103_RIGHT_CC_MASK_2.dcm',\n",
              " 'Mass-Training_P_00106_LEFT_MLO_MASK_2.dcm',\n",
              " 'Mass-Training_P_00797_LEFT_CC_MASK_2.dcm',\n",
              " 'Mass-Training_P_01394_LEFT_CC_MASK_2.dcm',\n",
              " 'Mass-Training_P_00778_RIGHT_CC_MASK_2.dcm',\n",
              " 'Mass-Training_P_00515_LEFT_CC_MASK_2.dcm',\n",
              " 'Mass-Training_P_00573_RIGHT_MLO_MASK_2.dcm',\n",
              " 'Mass-Training_P_00678_LEFT_CC_MASK_2.dcm',\n",
              " 'Mass-Training_P_00710_LEFT_CC_MASK_2.dcm',\n",
              " 'Mass-Training_P_00865_RIGHT_MLO_MASK_2.dcm',\n",
              " 'Mass-Training_P_00207_LEFT_MLO_MASK_2.dcm',\n",
              " 'Mass-Training_P_01494_LEFT_CC_MASK_2.dcm',\n",
              " 'Mass-Training_P_01270_RIGHT_MLO_MASK_2.dcm',\n",
              " 'Mass-Training_P_01039_RIGHT_CC_MASK_2.dcm',\n",
              " 'Mass-Training_P_01273_RIGHT_MLO_MASK_2.dcm',\n",
              " 'Mass-Training_P_01394_LEFT_MLO_MASK_2.dcm',\n",
              " 'Mass-Training_P_00515_LEFT_MLO_MASK_2.dcm',\n",
              " 'Mass-Training_P_00634_LEFT_CC_MASK_2.dcm',\n",
              " 'Mass-Training_P_01632_LEFT_MLO_MASK_2.dcm',\n",
              " 'Mass-Training_P_00634_LEFT_MLO_MASK_2.dcm',\n",
              " 'Mass-Training_P_01803_RIGHT_CC_MASK_2.dcm',\n",
              " 'Mass-Training_P_00420_RIGHT_CC_MASK_2.dcm',\n",
              " 'Mass-Training_P_00495_RIGHT_MLO_MASK_2.dcm',\n",
              " 'Mass-Training_P_00106_RIGHT_CC_MASK_2.dcm',\n",
              " 'Mass-Training_P_00958_LEFT_CC_MASK_2.dcm',\n",
              " 'Mass-Training_P_01596_RIGHT_MLO_MASK_2.dcm',\n",
              " 'Mass-Training_P_00958_LEFT_MLO_MASK_2.dcm',\n",
              " 'Mass-Training_P_00528_LEFT_MLO_MASK_2.dcm',\n",
              " 'Mass-Training_P_00586_LEFT_MLO_MASK_2.dcm',\n",
              " 'Mass-Training_P_00420_RIGHT_MLO_MASK_2.dcm',\n",
              " 'Mass-Training_P_00376_RIGHT_MLO_MASK_2.dcm',\n",
              " 'Mass-Training_P_00419_LEFT_CC_MASK_2.dcm',\n",
              " 'Mass-Training_P_01218_RIGHT_CC_MASK_2.dcm',\n",
              " 'Mass-Training_P_00328_RIGHT_CC_MASK_2.dcm',\n",
              " 'Mass-Training_P_00092_RIGHT_MLO_MASK_2.dcm',\n",
              " 'Mass-Training_P_01656_LEFT_CC_MASK_2.dcm',\n",
              " 'Mass-Training_P_01656_LEFT_MLO_MASK_2.dcm',\n",
              " 'Mass-Training_P_00342_RIGHT_MLO_MASK_2.dcm']"
            ]
          },
          "metadata": {},
          "execution_count": 47
        }
      ]
    },
    {
      "cell_type": "code",
      "source": [
        ""
      ],
      "metadata": {
        "id": "lLXZkxjkxelh"
      },
      "execution_count": null,
      "outputs": []
    },
    {
      "cell_type": "code",
      "source": [
        "a=0\n",
        "for (curdir, dirs, files) in os.walk(\"/content/drive/MyDrive/CBIS-DDSM/Mass/Train\"):\n",
        "  as_crop=[x for x in files if (\"__a\" in x) and (\"CROP\" in x)]\n",
        "\n",
        "\n",
        "print(len(as_crop))\n",
        "as_crop"
      ],
      "metadata": {
        "colab": {
          "base_uri": "https://localhost:8080/"
        },
        "id": "fWpUQbKzwrqE",
        "outputId": "6bcba0cb-8406-4114-8da4-334e48a253c9"
      },
      "execution_count": null,
      "outputs": [
        {
          "output_type": "stream",
          "name": "stdout",
          "text": [
            "0\n"
          ]
        },
        {
          "output_type": "execute_result",
          "data": {
            "text/plain": [
              "[]"
            ]
          },
          "metadata": {},
          "execution_count": 48
        }
      ]
    },
    {
      "cell_type": "code",
      "source": [
        ""
      ],
      "metadata": {
        "id": "K2LAze-2tfjo"
      },
      "execution_count": null,
      "outputs": []
    },
    {
      "cell_type": "code",
      "source": [
        "# ds0=pydicom.dcmread(\"/content/drive/MyDrive/CBIS-DDSM/Mass/Train/Mass-Training_P_00004_LEFT_MLO_FULL.dcm\")\n",
        "# # ds1=pydicom.dcmread(\"/content/drive/MyDrive/CBIS-DDSM/Mass/Train/Mass-Training_P_00001_LEFT_CC_FULL___a.dcm\")"
      ],
      "metadata": {
        "id": "xWtrOAvKisSi"
      },
      "execution_count": null,
      "outputs": []
    },
    {
      "cell_type": "code",
      "source": [
        "for ds in as_mask:\n",
        "  to=os.path.join(\"/content/drive/MyDrive/CBIS-DDSM/Mass/Train/\",ds.replace(\"___a.dcm\",\".dcm\"))\n",
        "  # to=os.path.join(\"/content/drive/MyDrive/CBIS-DDSM/Mass/Train/\",ds)\n",
        "  print(to)\n",
        "  try:\n",
        "    \n",
        "    ds0=pydicom.dcmread(to)\n",
        "    print(1)\n",
        "  except:\n",
        "    print(\"False\")"
      ],
      "metadata": {
        "colab": {
          "base_uri": "https://localhost:8080/"
        },
        "id": "EMcPVoK9tLQu",
        "outputId": "8af5a40c-0752-4980-ac56-593c40821b2d"
      },
      "execution_count": null,
      "outputs": [
        {
          "output_type": "stream",
          "name": "stdout",
          "text": [
            "/content/drive/MyDrive/CBIS-DDSM/Mass/Train/Mass-Training_P_01039_RIGHT_MLO_MASK_2.dcm\n",
            "1\n",
            "/content/drive/MyDrive/CBIS-DDSM/Mass/Train/Mass-Training_P_00914_LEFT_CC_MASK_2.dcm\n",
            "1\n",
            "/content/drive/MyDrive/CBIS-DDSM/Mass/Train/Mass-Training_P_01600_RIGHT_MLO_MASK_2.dcm\n",
            "1\n",
            "/content/drive/MyDrive/CBIS-DDSM/Mass/Train/Mass-Training_P_01343_LEFT_CC_MASK_2.dcm\n",
            "1\n",
            "/content/drive/MyDrive/CBIS-DDSM/Mass/Train/Mass-Training_P_00778_RIGHT_MLO_MASK_2.dcm\n",
            "1\n",
            "/content/drive/MyDrive/CBIS-DDSM/Mass/Train/Mass-Training_P_00432_LEFT_CC_MASK_2.dcm\n",
            "1\n",
            "/content/drive/MyDrive/CBIS-DDSM/Mass/Train/Mass-Training_P_00207_LEFT_CC_MASK_2.dcm\n",
            "1\n",
            "/content/drive/MyDrive/CBIS-DDSM/Mass/Train/Mass-Training_P_00044_RIGHT_CC_MASK_2.dcm\n",
            "1\n",
            "/content/drive/MyDrive/CBIS-DDSM/Mass/Train/Mass-Training_P_00106_RIGHT_MLO_MASK_2.dcm\n",
            "1\n",
            "/content/drive/MyDrive/CBIS-DDSM/Mass/Train/Mass-Training_P_01494_LEFT_MLO_MASK_2.dcm\n",
            "1\n",
            "/content/drive/MyDrive/CBIS-DDSM/Mass/Train/Mass-Training_P_00914_LEFT_MLO_MASK_2.dcm\n",
            "1\n",
            "/content/drive/MyDrive/CBIS-DDSM/Mass/Train/Mass-Training_P_00309_LEFT_MLO_MASK_2.dcm\n",
            "1\n",
            "/content/drive/MyDrive/CBIS-DDSM/Mass/Train/Mass-Training_P_00432_LEFT_MLO_MASK_2.dcm\n",
            "1\n",
            "/content/drive/MyDrive/CBIS-DDSM/Mass/Train/Mass-Training_P_01273_RIGHT_CC_MASK_2.dcm\n",
            "1\n",
            "/content/drive/MyDrive/CBIS-DDSM/Mass/Train/Mass-Training_P_01262_RIGHT_CC_MASK_2.dcm\n",
            "1\n",
            "/content/drive/MyDrive/CBIS-DDSM/Mass/Train/Mass-Training_P_00092_LEFT_MLO_MASK_2.dcm\n",
            "1\n",
            "/content/drive/MyDrive/CBIS-DDSM/Mass/Train/Mass-Training_P_00678_LEFT_MLO_MASK_2.dcm\n",
            "1\n",
            "/content/drive/MyDrive/CBIS-DDSM/Mass/Train/Mass-Training_P_00309_LEFT_CC_MASK_2.dcm\n",
            "1\n",
            "/content/drive/MyDrive/CBIS-DDSM/Mass/Train/Mass-Training_P_00431_RIGHT_MLO_MASK_2.dcm\n",
            "1\n",
            "/content/drive/MyDrive/CBIS-DDSM/Mass/Train/Mass-Training_P_01103_RIGHT_MLO_MASK_2.dcm\n",
            "1\n",
            "/content/drive/MyDrive/CBIS-DDSM/Mass/Train/Mass-Training_P_00802_LEFT_MLO_MASK_2.dcm\n",
            "1\n",
            "/content/drive/MyDrive/CBIS-DDSM/Mass/Train/Mass-Training_P_00106_LEFT_CC_MASK_2.dcm\n",
            "1\n",
            "/content/drive/MyDrive/CBIS-DDSM/Mass/Train/Mass-Training_P_00797_LEFT_MLO_MASK_2.dcm\n",
            "1\n",
            "/content/drive/MyDrive/CBIS-DDSM/Mass/Train/Mass-Training_P_00328_RIGHT_MLO_MASK_2.dcm\n",
            "1\n",
            "/content/drive/MyDrive/CBIS-DDSM/Mass/Train/Mass-Training_P_01343_LEFT_MLO_MASK_2.dcm\n",
            "1\n",
            "/content/drive/MyDrive/CBIS-DDSM/Mass/Train/Mass-Training_P_01218_RIGHT_MLO_MASK_2.dcm\n",
            "1\n",
            "/content/drive/MyDrive/CBIS-DDSM/Mass/Train/Mass-Training_P_01632_LEFT_CC_MASK_2.dcm\n",
            "1\n",
            "/content/drive/MyDrive/CBIS-DDSM/Mass/Train/Mass-Training_P_00044_RIGHT_MLO_MASK_2.dcm\n",
            "1\n",
            "/content/drive/MyDrive/CBIS-DDSM/Mass/Train/Mass-Training_P_00419_LEFT_MLO_MASK_2.dcm\n",
            "1\n",
            "/content/drive/MyDrive/CBIS-DDSM/Mass/Train/Mass-Training_P_01803_RIGHT_MLO_MASK_2.dcm\n",
            "1\n",
            "/content/drive/MyDrive/CBIS-DDSM/Mass/Train/Mass-Training_P_01103_RIGHT_CC_MASK_2.dcm\n",
            "1\n",
            "/content/drive/MyDrive/CBIS-DDSM/Mass/Train/Mass-Training_P_00106_LEFT_MLO_MASK_2.dcm\n",
            "1\n",
            "/content/drive/MyDrive/CBIS-DDSM/Mass/Train/Mass-Training_P_00797_LEFT_CC_MASK_2.dcm\n",
            "1\n",
            "/content/drive/MyDrive/CBIS-DDSM/Mass/Train/Mass-Training_P_01394_LEFT_CC_MASK_2.dcm\n",
            "1\n",
            "/content/drive/MyDrive/CBIS-DDSM/Mass/Train/Mass-Training_P_00778_RIGHT_CC_MASK_2.dcm\n",
            "1\n",
            "/content/drive/MyDrive/CBIS-DDSM/Mass/Train/Mass-Training_P_00515_LEFT_CC_MASK_2.dcm\n",
            "1\n",
            "/content/drive/MyDrive/CBIS-DDSM/Mass/Train/Mass-Training_P_00573_RIGHT_MLO_MASK_2.dcm\n",
            "1\n",
            "/content/drive/MyDrive/CBIS-DDSM/Mass/Train/Mass-Training_P_00678_LEFT_CC_MASK_2.dcm\n",
            "1\n",
            "/content/drive/MyDrive/CBIS-DDSM/Mass/Train/Mass-Training_P_00710_LEFT_CC_MASK_2.dcm\n"
          ]
        }
      ]
    },
    {
      "cell_type": "code",
      "source": [
        "MASKds=pydicom.dcmread(\"/content/drive/MyDrive/CBIS-DDSM/Mass/Train/Mass-Training_P_00001_LEFT_CC_FULL___a.dcm\")\n",
        "plt.imshow(ds.pixel_array)"
      ],
      "metadata": {
        "colab": {
          "base_uri": "https://localhost:8080/",
          "height": 286
        },
        "id": "4B0RNcN1uGLX",
        "outputId": "11eef012-9014-415b-c588-e7d7a1695caa"
      },
      "execution_count": null,
      "outputs": [
        {
          "output_type": "execute_result",
          "data": {
            "text/plain": [
              "<matplotlib.image.AxesImage at 0x7f2207246750>"
            ]
          },
          "metadata": {},
          "execution_count": 135
        },
        {
          "output_type": "display_data",
          "data": {
            "image/png": "[encoded data removed]",
            "text/plain": [
              "<Figure size 432x288 with 1 Axes>"
            ]
          },
          "metadata": {
            "needs_background": "light"
          }
        }
      ]
    },
    {
      "cell_type": "code",
      "source": [
        ""
      ],
      "metadata": {
        "id": "XPn-WMGfuo3k"
      },
      "execution_count": null,
      "outputs": []
    },
    {
      "cell_type": "code",
      "source": [
        ""
      ],
      "metadata": {
        "id": "Kr2EQ6iElx2E"
      },
      "execution_count": null,
      "outputs": []
    },
    {
      "cell_type": "code",
      "source": [
        ""
      ],
      "metadata": {
        "id": "6lfV_mOqlx5m"
      },
      "execution_count": null,
      "outputs": []
    },
    {
      "cell_type": "code",
      "source": [
        ""
      ],
      "metadata": {
        "id": "LZP4glY4lx8T"
      },
      "execution_count": null,
      "outputs": []
    },
    {
      "cell_type": "code",
      "source": [
        ""
      ],
      "metadata": {
        "id": "ra9awQPHlx_U"
      },
      "execution_count": null,
      "outputs": []
    },
    {
      "cell_type": "code",
      "source": [
        ""
      ],
      "metadata": {
        "id": "izalieWLlyBy"
      },
      "execution_count": null,
      "outputs": []
    },
    {
      "cell_type": "code",
      "source": [
        ""
      ],
      "metadata": {
        "id": "VkO8SMPTlyEj"
      },
      "execution_count": null,
      "outputs": []
    },
    {
      "cell_type": "code",
      "source": [
        "import tensorflow as tf\n",
        "from tensorflow import keras"
      ],
      "metadata": {
        "id": "uP8XaLfWlyHR"
      },
      "execution_count": 38,
      "outputs": []
    },
    {
      "cell_type": "code",
      "source": [
        ""
      ],
      "metadata": {
        "id": "b6bgVTo8lyJw"
      },
      "execution_count": 42,
      "outputs": []
    },
    {
      "cell_type": "code",
      "source": [
        "from tensorflow.keras.layers import Conv2D, BatchNormalization, Activation, MaxPool2D, Conv2DTranspose, Concatenate, Input\n",
        "from tensorflow.keras.models import Model\n",
        "\n",
        "\n",
        "def conv_block(inputs,num_filters):\n",
        "  x = Conv2D(num_filters, 3, padding = \"same\")(inputs)\n",
        "  x=BatchNormalization()(x)\n",
        "  x=Activation(\"relu\")(x)\n",
        "\n",
        "  x=Conv2D(num_filters, 3, padding=\"same\")(x)\n",
        "  x=BatchNormalization()(x)\n",
        "  x=Activation(\"relu\")(x)\n",
        "\n",
        "  return x\n",
        "\n",
        "def encoder_block(inputs,num_filters):\n",
        "  x = conv_block(inputs, num_filters)\n",
        "  p = MaxPool2D((2,2))(x)\n",
        "  return x, p\n",
        "  \n",
        "def decoder_block(inputs, skip_features, num_filters):\n",
        "  x = Conv2DTranspose(num_filters, (2,2), strides=2, padding=\"same\")(inputs)\n",
        "  x = Concatenate()([x, skip_features])\n",
        "  x = conv_block(x, num_filters)\n",
        "  return x\n",
        "\n",
        "def build_unet(input_shape):\n",
        "  inputs = Input(input_shape)\n",
        "\n",
        "  \"\"\"Encoder\"\"\"\n",
        "\n",
        "  s1,p1 = encoder_block(inputs,64)\n",
        "  s2,p2 = encoder_block(p1,128)\n",
        "  s3,p3 = encoder_block(p2,256)\n",
        "  s4,p4 = encoder_block(p3,512)\n",
        "\n",
        "  \"\"\"Bridge\"\"\"\n",
        "\n",
        "  b1= conv_block(p4, 1024)\n",
        "\n",
        "  \"\"\"Decoder\"\"\"\n",
        "  d1 = decoder_block(b1,s4,512)\n",
        "  d2 = decoder_block(d1,s3,256)\n",
        "  d3 = decoder_block(d2,s2,128)\n",
        "  d4 = decoder_block(d3,s1,64)\n",
        "\n",
        "\n",
        "  \"\"\"Output\"\"\"\n",
        "  outputs = Conv2D(1, (1,1), padding=\"same\", activation=\"sigmoid\")(d4)\n",
        "\n",
        "\n",
        "  model = Model(inputs, outputs, name=\"U-Net\")\n",
        "  return model"
      ],
      "metadata": {
        "id": "LHRxsKIY8mU8"
      },
      "execution_count": 11,
      "outputs": []
    },
    {
      "cell_type": "code",
      "source": [
        "input_shape=(512,512,3)\n",
        "model=build_unet(input_shape)\n",
        "model.summary()"
      ],
      "metadata": {
        "colab": {
          "base_uri": "https://localhost:8080/"
        },
        "id": "erKKj1Jy8mY_",
        "outputId": "d6587a11-4594-4e43-d817-9a79b3df2efe"
      },
      "execution_count": 12,
      "outputs": [
        {
          "output_type": "stream",
          "name": "stdout",
          "text": [
            "Model: \"U-Net\"\n",
            "__________________________________________________________________________________________________\n",
            " Layer (type)                   Output Shape         Param #     Connected to                     \n",
            "==================================================================================================\n",
            " input_6 (InputLayer)           [(None, 512, 512, 3  0           []                               \n",
            "                                )]                                                                \n",
            "                                                                                                  \n",
            " conv2d_29 (Conv2D)             (None, 512, 512, 64  1792        ['input_6[0][0]']                \n",
            "                                )                                                                 \n",
            "                                                                                                  \n",
            " batch_normalization_28 (BatchN  (None, 512, 512, 64  256        ['conv2d_29[0][0]']              \n",
            " ormalization)                  )                                                                 \n",
            "                                                                                                  \n",
            " activation_28 (Activation)     (None, 512, 512, 64  0           ['batch_normalization_28[0][0]'] \n",
            "                                )                                                                 \n",
            "                                                                                                  \n",
            " conv2d_30 (Conv2D)             (None, 512, 512, 64  36928       ['activation_28[0][0]']          \n",
            "                                )                                                                 \n",
            "                                                                                                  \n",
            " batch_normalization_29 (BatchN  (None, 512, 512, 64  256        ['conv2d_30[0][0]']              \n",
            " ormalization)                  )                                                                 \n",
            "                                                                                                  \n",
            " activation_29 (Activation)     (None, 512, 512, 64  0           ['batch_normalization_29[0][0]'] \n",
            "                                )                                                                 \n",
            "                                                                                                  \n",
            " max_pooling2d_8 (MaxPooling2D)  (None, 256, 256, 64  0          ['activation_29[0][0]']          \n",
            "                                )                                                                 \n",
            "                                                                                                  \n",
            " conv2d_31 (Conv2D)             (None, 256, 256, 12  73856       ['max_pooling2d_8[0][0]']        \n",
            "                                8)                                                                \n",
            "                                                                                                  \n",
            " batch_normalization_30 (BatchN  (None, 256, 256, 12  512        ['conv2d_31[0][0]']              \n",
            " ormalization)                  8)                                                                \n",
            "                                                                                                  \n",
            " activation_30 (Activation)     (None, 256, 256, 12  0           ['batch_normalization_30[0][0]'] \n",
            "                                8)                                                                \n",
            "                                                                                                  \n",
            " conv2d_32 (Conv2D)             (None, 256, 256, 12  147584      ['activation_30[0][0]']          \n",
            "                                8)                                                                \n",
            "                                                                                                  \n",
            " batch_normalization_31 (BatchN  (None, 256, 256, 12  512        ['conv2d_32[0][0]']              \n",
            " ormalization)                  8)                                                                \n",
            "                                                                                                  \n",
            " activation_31 (Activation)     (None, 256, 256, 12  0           ['batch_normalization_31[0][0]'] \n",
            "                                8)                                                                \n",
            "                                                                                                  \n",
            " max_pooling2d_9 (MaxPooling2D)  (None, 128, 128, 12  0          ['activation_31[0][0]']          \n",
            "                                8)                                                                \n",
            "                                                                                                  \n",
            " conv2d_33 (Conv2D)             (None, 128, 128, 25  295168      ['max_pooling2d_9[0][0]']        \n",
            "                                6)                                                                \n",
            "                                                                                                  \n",
            " batch_normalization_32 (BatchN  (None, 128, 128, 25  1024       ['conv2d_33[0][0]']              \n",
            " ormalization)                  6)                                                                \n",
            "                                                                                                  \n",
            " activation_32 (Activation)     (None, 128, 128, 25  0           ['batch_normalization_32[0][0]'] \n",
            "                                6)                                                                \n",
            "                                                                                                  \n",
            " conv2d_34 (Conv2D)             (None, 128, 128, 25  590080      ['activation_32[0][0]']          \n",
            "                                6)                                                                \n",
            "                                                                                                  \n",
            " batch_normalization_33 (BatchN  (None, 128, 128, 25  1024       ['conv2d_34[0][0]']              \n",
            " ormalization)                  6)                                                                \n",
            "                                                                                                  \n",
            " activation_33 (Activation)     (None, 128, 128, 25  0           ['batch_normalization_33[0][0]'] \n",
            "                                6)                                                                \n",
            "                                                                                                  \n",
            " max_pooling2d_10 (MaxPooling2D  (None, 64, 64, 256)  0          ['activation_33[0][0]']          \n",
            " )                                                                                                \n",
            "                                                                                                  \n",
            " conv2d_35 (Conv2D)             (None, 64, 64, 512)  1180160     ['max_pooling2d_10[0][0]']       \n",
            "                                                                                                  \n",
            " batch_normalization_34 (BatchN  (None, 64, 64, 512)  2048       ['conv2d_35[0][0]']              \n",
            " ormalization)                                                                                    \n",
            "                                                                                                  \n",
            " activation_34 (Activation)     (None, 64, 64, 512)  0           ['batch_normalization_34[0][0]'] \n",
            "                                                                                                  \n",
            " conv2d_36 (Conv2D)             (None, 64, 64, 512)  2359808     ['activation_34[0][0]']          \n",
            "                                                                                                  \n",
            " batch_normalization_35 (BatchN  (None, 64, 64, 512)  2048       ['conv2d_36[0][0]']              \n",
            " ormalization)                                                                                    \n",
            "                                                                                                  \n",
            " activation_35 (Activation)     (None, 64, 64, 512)  0           ['batch_normalization_35[0][0]'] \n",
            "                                                                                                  \n",
            " max_pooling2d_11 (MaxPooling2D  (None, 32, 32, 512)  0          ['activation_35[0][0]']          \n",
            " )                                                                                                \n",
            "                                                                                                  \n",
            " conv2d_37 (Conv2D)             (None, 32, 32, 1024  4719616     ['max_pooling2d_11[0][0]']       \n",
            "                                )                                                                 \n",
            "                                                                                                  \n",
            " batch_normalization_36 (BatchN  (None, 32, 32, 1024  4096       ['conv2d_37[0][0]']              \n",
            " ormalization)                  )                                                                 \n",
            "                                                                                                  \n",
            " activation_36 (Activation)     (None, 32, 32, 1024  0           ['batch_normalization_36[0][0]'] \n",
            "                                )                                                                 \n",
            "                                                                                                  \n",
            " conv2d_38 (Conv2D)             (None, 32, 32, 1024  9438208     ['activation_36[0][0]']          \n",
            "                                )                                                                 \n",
            "                                                                                                  \n",
            " batch_normalization_37 (BatchN  (None, 32, 32, 1024  4096       ['conv2d_38[0][0]']              \n",
            " ormalization)                  )                                                                 \n",
            "                                                                                                  \n",
            " activation_37 (Activation)     (None, 32, 32, 1024  0           ['batch_normalization_37[0][0]'] \n",
            "                                )                                                                 \n",
            "                                                                                                  \n",
            " conv2d_transpose_5 (Conv2DTran  (None, 64, 64, 512)  2097664    ['activation_37[0][0]']          \n",
            " spose)                                                                                           \n",
            "                                                                                                  \n",
            " concatenate_4 (Concatenate)    (None, 64, 64, 1024  0           ['conv2d_transpose_5[0][0]',     \n",
            "                                )                                 'activation_35[0][0]']          \n",
            "                                                                                                  \n",
            " conv2d_39 (Conv2D)             (None, 64, 64, 512)  4719104     ['concatenate_4[0][0]']          \n",
            "                                                                                                  \n",
            " batch_normalization_38 (BatchN  (None, 64, 64, 512)  2048       ['conv2d_39[0][0]']              \n",
            " ormalization)                                                                                    \n",
            "                                                                                                  \n",
            " activation_38 (Activation)     (None, 64, 64, 512)  0           ['batch_normalization_38[0][0]'] \n",
            "                                                                                                  \n",
            " conv2d_40 (Conv2D)             (None, 64, 64, 512)  2359808     ['activation_38[0][0]']          \n",
            "                                                                                                  \n",
            " batch_normalization_39 (BatchN  (None, 64, 64, 512)  2048       ['conv2d_40[0][0]']              \n",
            " ormalization)                                                                                    \n",
            "                                                                                                  \n",
            " activation_39 (Activation)     (None, 64, 64, 512)  0           ['batch_normalization_39[0][0]'] \n",
            "                                                                                                  \n",
            " conv2d_transpose_6 (Conv2DTran  (None, 128, 128, 25  524544     ['activation_39[0][0]']          \n",
            " spose)                         6)                                                                \n",
            "                                                                                                  \n",
            " concatenate_5 (Concatenate)    (None, 128, 128, 51  0           ['conv2d_transpose_6[0][0]',     \n",
            "                                2)                                'activation_33[0][0]']          \n",
            "                                                                                                  \n",
            " conv2d_41 (Conv2D)             (None, 128, 128, 25  1179904     ['concatenate_5[0][0]']          \n",
            "                                6)                                                                \n",
            "                                                                                                  \n",
            " batch_normalization_40 (BatchN  (None, 128, 128, 25  1024       ['conv2d_41[0][0]']              \n",
            " ormalization)                  6)                                                                \n",
            "                                                                                                  \n",
            " activation_40 (Activation)     (None, 128, 128, 25  0           ['batch_normalization_40[0][0]'] \n",
            "                                6)                                                                \n",
            "                                                                                                  \n",
            " conv2d_42 (Conv2D)             (None, 128, 128, 25  590080      ['activation_40[0][0]']          \n",
            "                                6)                                                                \n",
            "                                                                                                  \n",
            " batch_normalization_41 (BatchN  (None, 128, 128, 25  1024       ['conv2d_42[0][0]']              \n",
            " ormalization)                  6)                                                                \n",
            "                                                                                                  \n",
            " activation_41 (Activation)     (None, 128, 128, 25  0           ['batch_normalization_41[0][0]'] \n",
            "                                6)                                                                \n",
            "                                                                                                  \n",
            " conv2d_transpose_7 (Conv2DTran  (None, 256, 256, 12  131200     ['activation_41[0][0]']          \n",
            " spose)                         8)                                                                \n",
            "                                                                                                  \n",
            " concatenate_6 (Concatenate)    (None, 256, 256, 25  0           ['conv2d_transpose_7[0][0]',     \n",
            "                                6)                                'activation_31[0][0]']          \n",
            "                                                                                                  \n",
            " conv2d_43 (Conv2D)             (None, 256, 256, 12  295040      ['concatenate_6[0][0]']          \n",
            "                                8)                                                                \n",
            "                                                                                                  \n",
            " batch_normalization_42 (BatchN  (None, 256, 256, 12  512        ['conv2d_43[0][0]']              \n",
            " ormalization)                  8)                                                                \n",
            "                                                                                                  \n",
            " activation_42 (Activation)     (None, 256, 256, 12  0           ['batch_normalization_42[0][0]'] \n",
            "                                8)                                                                \n",
            "                                                                                                  \n",
            " conv2d_44 (Conv2D)             (None, 256, 256, 12  147584      ['activation_42[0][0]']          \n",
            "                                8)                                                                \n",
            "                                                                                                  \n",
            " batch_normalization_43 (BatchN  (None, 256, 256, 12  512        ['conv2d_44[0][0]']              \n",
            " ormalization)                  8)                                                                \n",
            "                                                                                                  \n",
            " activation_43 (Activation)     (None, 256, 256, 12  0           ['batch_normalization_43[0][0]'] \n",
            "                                8)                                                                \n",
            "                                                                                                  \n",
            " conv2d_transpose_8 (Conv2DTran  (None, 512, 512, 64  32832      ['activation_43[0][0]']          \n",
            " spose)                         )                                                                 \n",
            "                                                                                                  \n",
            " concatenate_7 (Concatenate)    (None, 512, 512, 12  0           ['conv2d_transpose_8[0][0]',     \n",
            "                                8)                                'activation_29[0][0]']          \n",
            "                                                                                                  \n",
            " conv2d_45 (Conv2D)             (None, 512, 512, 64  73792       ['concatenate_7[0][0]']          \n",
            "                                )                                                                 \n",
            "                                                                                                  \n",
            " batch_normalization_44 (BatchN  (None, 512, 512, 64  256        ['conv2d_45[0][0]']              \n",
            " ormalization)                  )                                                                 \n",
            "                                                                                                  \n",
            " activation_44 (Activation)     (None, 512, 512, 64  0           ['batch_normalization_44[0][0]'] \n",
            "                                )                                                                 \n",
            "                                                                                                  \n",
            " conv2d_46 (Conv2D)             (None, 512, 512, 64  36928       ['activation_44[0][0]']          \n",
            "                                )                                                                 \n",
            "                                                                                                  \n",
            " batch_normalization_45 (BatchN  (None, 512, 512, 64  256        ['conv2d_46[0][0]']              \n",
            " ormalization)                  )                                                                 \n",
            "                                                                                                  \n",
            " activation_45 (Activation)     (None, 512, 512, 64  0           ['batch_normalization_45[0][0]'] \n",
            "                                )                                                                 \n",
            "                                                                                                  \n",
            " conv2d_47 (Conv2D)             (None, 512, 512, 1)  65          ['activation_45[0][0]']          \n",
            "                                                                                                  \n",
            "==================================================================================================\n",
            "Total params: 31,055,297\n",
            "Trainable params: 31,043,521\n",
            "Non-trainable params: 11,776\n",
            "__________________________________________________________________________________________________\n"
          ]
        }
      ]
    },
    {
      "cell_type": "code",
      "source": [
        ""
      ],
      "metadata": {
        "id": "BekFwM_D8mcb"
      },
      "execution_count": null,
      "outputs": []
    },
    {
      "cell_type": "code",
      "source": [
        ""
      ],
      "metadata": {
        "id": "713CSBCk8mfv"
      },
      "execution_count": null,
      "outputs": []
    },
    {
      "cell_type": "code",
      "source": [
        ""
      ],
      "metadata": {
        "id": "JH6DtelTl7f0"
      },
      "execution_count": 42,
      "outputs": []
    },
    {
      "cell_type": "code",
      "source": [
        "#Modified UNET\n",
        "\n",
        "\n",
        "from tensorflow.keras.layers import Conv2D, BatchNormalization, Activation, MaxPool2D, Conv2DTranspose, Concatenate, Input\n",
        "from tensorflow.keras.models import Model\n",
        "from tensorflow.keras.applications import VGG16\n",
        "\n",
        "\n",
        "def conv_block(inputs, num_filters):\n",
        "  x=Conv2D(num_filters, 3, padding = \"same\") (inputs)\n",
        "  x=BatchNormalization()(x)\n",
        "  x=Activation(\"relu\")(x)\n",
        "\n",
        "  x=Conv2D(num_filters, 3, padding = \"same\") (x)\n",
        "  x=BatchNormalization()(x)\n",
        "  x=Activation(\"relu\")(x)\n",
        "\n",
        "  return x\n",
        "\n",
        "def build_VGG_16_unet(input_shape):\n",
        "  inputs = Input(shape=input_shape)\n",
        "\n",
        "  vgg16 = VGG16(include_top=False, weights=\"imagenet\", input_tensor=inputs)\n",
        "  # vgg16.summary()\n",
        "\n",
        "\n",
        "  \"\"\"  Encoder \"\"\"\n",
        "\n",
        "  s1=vgg16.get_layer(\"block1_conv1\").output\n",
        "  s2=vgg16.get_layer(\"block2_conv2\").output\n",
        "  s3=vgg16.get_layer(\"block_conv2\")\n"
      ],
      "metadata": {
        "id": "G4wjnWNDm02w"
      },
      "execution_count": 3,
      "outputs": []
    },
    {
      "cell_type": "code",
      "source": [
        "input_shape = (512, 512, 3)\n",
        "build_VGG_16_unet(input_shape)"
      ],
      "metadata": {
        "colab": {
          "base_uri": "https://localhost:8080/"
        },
        "id": "zhMf9N_gxYGn",
        "outputId": "f7c70524-deed-449f-ac1f-0048de5aef5e"
      },
      "execution_count": 4,
      "outputs": [
        {
          "output_type": "stream",
          "name": "stdout",
          "text": [
            "Downloading data from https://storage.googleapis.com/tensorflow/keras-applications/vgg16/vgg16_weights_tf_dim_ordering_tf_kernels_notop.h5\n",
            "58892288/58889256 [==============================] - 1s 0us/step\n",
            "58900480/58889256 [==============================] - 1s 0us/step\n",
            "Model: \"vgg16\"\n",
            "_________________________________________________________________\n",
            " Layer (type)                Output Shape              Param #   \n",
            "=================================================================\n",
            " input_1 (InputLayer)        [(None, 512, 512, 3)]     0         \n",
            "                                                                 \n",
            " block1_conv1 (Conv2D)       (None, 512, 512, 64)      1792      \n",
            "                                                                 \n",
            " block1_conv2 (Conv2D)       (None, 512, 512, 64)      36928     \n",
            "                                                                 \n",
            " block1_pool (MaxPooling2D)  (None, 256, 256, 64)      0         \n",
            "                                                                 \n",
            " block2_conv1 (Conv2D)       (None, 256, 256, 128)     73856     \n",
            "                                                                 \n",
            " block2_conv2 (Conv2D)       (None, 256, 256, 128)     147584    \n",
            "                                                                 \n",
            " block2_pool (MaxPooling2D)  (None, 128, 128, 128)     0         \n",
            "                                                                 \n",
            " block3_conv1 (Conv2D)       (None, 128, 128, 256)     295168    \n",
            "                                                                 \n",
            " block3_conv2 (Conv2D)       (None, 128, 128, 256)     590080    \n",
            "                                                                 \n",
            " block3_conv3 (Conv2D)       (None, 128, 128, 256)     590080    \n",
            "                                                                 \n",
            " block3_pool (MaxPooling2D)  (None, 64, 64, 256)       0         \n",
            "                                                                 \n",
            " block4_conv1 (Conv2D)       (None, 64, 64, 512)       1180160   \n",
            "                                                                 \n",
            " block4_conv2 (Conv2D)       (None, 64, 64, 512)       2359808   \n",
            "                                                                 \n",
            " block4_conv3 (Conv2D)       (None, 64, 64, 512)       2359808   \n",
            "                                                                 \n",
            " block4_pool (MaxPooling2D)  (None, 32, 32, 512)       0         \n",
            "                                                                 \n",
            " block5_conv1 (Conv2D)       (None, 32, 32, 512)       2359808   \n",
            "                                                                 \n",
            " block5_conv2 (Conv2D)       (None, 32, 32, 512)       2359808   \n",
            "                                                                 \n",
            " block5_conv3 (Conv2D)       (None, 32, 32, 512)       2359808   \n",
            "                                                                 \n",
            " block5_pool (MaxPooling2D)  (None, 16, 16, 512)       0         \n",
            "                                                                 \n",
            "=================================================================\n",
            "Total params: 14,714,688\n",
            "Trainable params: 14,714,688\n",
            "Non-trainable params: 0\n",
            "_________________________________________________________________\n"
          ]
        }
      ]
    },
    {
      "cell_type": "code",
      "source": [
        "inputs = Input(shape=input_shape)\n",
        "\n",
        "vgg16 = VGG16(include_top=False, weights=\"imagenet\", input_tensor=inputs)\n",
        "# vgg16.summary()\n",
        "\n",
        "\n",
        "\"\"\"  Encoder \"\"\"\n",
        "\n",
        "s1=vgg16.get_layer(\"block1_conv1\").output   #512\n",
        "s2=vgg16.get_layer(\"block1_conv1\").output   #256\n",
        "s3=vgg16.get_layer(\"block1_conv1\").output   # \n",
        "s4=vgg16.get_layer(\"block1_conv1\").output \n",
        "s1.shape"
      ],
      "metadata": {
        "colab": {
          "base_uri": "https://localhost:8080/"
        },
        "id": "JwCFdrxRxoSD",
        "outputId": "606deb5e-ed63-4578-9671-7b39cec486c3"
      },
      "execution_count": 6,
      "outputs": [
        {
          "output_type": "execute_result",
          "data": {
            "text/plain": [
              "TensorShape([None, 512, 512, 64])"
            ]
          },
          "metadata": {},
          "execution_count": 6
        }
      ]
    },
    {
      "cell_type": "code",
      "source": [
        ""
      ],
      "metadata": {
        "id": "9I_O4TkSzTfl"
      },
      "execution_count": null,
      "outputs": []
    }
  ]
}